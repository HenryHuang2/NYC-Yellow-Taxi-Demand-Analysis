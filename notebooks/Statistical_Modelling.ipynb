{
 "cells": [
  {
   "cell_type": "code",
   "execution_count": 1,
   "metadata": {
    "ExecuteTime": {
     "end_time": "2022-08-21T13:46:37.651345Z",
     "start_time": "2022-08-21T13:46:36.190388Z"
    }
   },
   "outputs": [],
   "source": [
    "import pandas as pd\n",
    "import numpy as np\n",
    "import statsmodels.api as sm\n",
    "from statsmodels.formula.api import ols\n",
    "from sklearn.metrics import mean_squared_error"
   ]
  },
  {
   "cell_type": "markdown",
   "metadata": {},
   "source": [
    "# Preparation for statistics modelling"
   ]
  },
  {
   "cell_type": "code",
   "execution_count": 2,
   "metadata": {
    "ExecuteTime": {
     "end_time": "2022-08-21T13:46:37.685277Z",
     "start_time": "2022-08-21T13:46:37.654035Z"
    }
   },
   "outputs": [],
   "source": [
    "pu_2019 = pd.read_csv('../data/curated/pu_2019.csv')\n",
    "do_2019 = pd.read_csv('../data/curated/pu_2020.csv')\n",
    "pu_2020 = pd.read_csv('../data/curated/pu_2020.csv')\n",
    "do_2020 = pd.read_csv('../data/curated/do_2020.csv')\n",
    "\n",
    "# EWR Airport has NaN population, we will fill 0 \\\n",
    "# because airport should have very few population\n",
    "all_data = [pu_2019, do_2019, pu_2020, do_2020]\n",
    "for data in all_data:\n",
    "    data.fillna(0, inplace = True)"
   ]
  },
  {
   "cell_type": "code",
   "execution_count": 3,
   "metadata": {
    "ExecuteTime": {
     "end_time": "2022-08-21T13:46:37.697898Z",
     "start_time": "2022-08-21T13:46:37.689481Z"
    }
   },
   "outputs": [],
   "source": [
    "def print_model_performance(true, pred, model):\n",
    "    \"\"\"\n",
    "    print the summary, anova table and rmse of a given linear model\n",
    "    \"\"\"\n",
    "    print(model.summary())\n",
    "    print(\"=\" * 78)\n",
    "    anova_table = sm.stats.anova_lm(model, robust = \"hc2\")\n",
    "    print(\"ANOVA TABLE\")\n",
    "    print(anova_table)\n",
    "    print(\"=\" * 78)\n",
    "    print('RMSE = {:<.4}'.format(np.sqrt(mean_squared_error(true, pred))))\n",
    "    \n",
    "    \n",
    "def stepwise_selection(data, response, all_covariates, __covariates=None, __min_aic=np.inf, counter=1):\n",
    "    \"\"\"\n",
    "    print the model attributes with lowest aic\n",
    "    \"\"\"\n",
    "    print(f\"Stage {counter}\")\n",
    "    before_aic = __min_aic\n",
    "    min_aic = __min_aic\n",
    "    if __min_aic == np.inf:\n",
    "        __covariates = all_covariates\n",
    "    # Remove one covariate and check the aic \n",
    "    for var in __covariates:\n",
    "        new_covariates = [x for x in __covariates if x != var]\n",
    "        formula = response + '~' + '+'.join(new_covariates)\n",
    "        curr_model = ols(formula = formula, data = data).fit()\n",
    "        print(f\"{new_covariates}: {curr_model.aic}\")\n",
    "        if curr_model.aic < min_aic:\n",
    "            min_aic = curr_model.aic\n",
    "            best_model = curr_model\n",
    "    # Add one covariate and check the aic\n",
    "    for var in all_covariates:\n",
    "        if var in __covariates:\n",
    "            continue\n",
    "        new_covariates = list(__covariates) + [var, ]\n",
    "        formula = response + '~' + '+'.join(new_covariates)\n",
    "        curr_model = ols(formula = formula, data = data).fit()\n",
    "        print(f\"{new_covariates}: {curr_model.aic}\")\n",
    "        if curr_model.aic < min_aic:\n",
    "            min_aic = curr_model.aic\n",
    "            best_model = curr_model\n",
    "    if before_aic == min_aic:\n",
    "        print(f\"Best of Final: {list(__covariates)} with aic = {before_aic}\\n\")\n",
    "    else:\n",
    "        __covariates = best_model.params.index[1:]\n",
    "        print(f\"Best of Stage {counter}: {list(__covariates)} with aic = {best_model.aic}\")\n",
    "        return stepwise_selection(data, response, all_covariates, __covariates, min_aic, counter=counter+1)"
   ]
  },
  {
   "cell_type": "markdown",
   "metadata": {},
   "source": [
    "# Modelling"
   ]
  },
  {
   "cell_type": "markdown",
   "metadata": {},
   "source": [
    "## How does weather impact the number of trips?"
   ]
  },
  {
   "cell_type": "code",
   "execution_count": 4,
   "metadata": {
    "ExecuteTime": {
     "end_time": "2022-08-21T13:46:37.854837Z",
     "start_time": "2022-08-21T13:46:37.699469Z"
    },
    "scrolled": true
   },
   "outputs": [
    {
     "name": "stdout",
     "output_type": "stream",
     "text": [
      "Stage 1\n",
      "['precip', 'windspeed', 'visibility', 'snow', 'snowdepth']: 81435.02916548605\n",
      "['feelslike', 'windspeed', 'visibility', 'snow', 'snowdepth']: 81892.35310940816\n",
      "['feelslike', 'precip', 'visibility', 'snow', 'snowdepth']: 84690.11198932484\n",
      "['feelslike', 'precip', 'windspeed', 'snow', 'snowdepth']: 83413.67931524539\n",
      "['feelslike', 'precip', 'windspeed', 'visibility', 'snowdepth']: 86702.8199638448\n",
      "['feelslike', 'precip', 'windspeed', 'visibility', 'snow']: 87489.39197811416\n",
      "Best of Stage 1: ['precip', 'windspeed', 'visibility', 'snow', 'snowdepth'] with aic = 81435.02916548605\n",
      "Stage 2\n",
      "['windspeed', 'visibility', 'snow', 'snowdepth']: 81912.58461788866\n",
      "['precip', 'visibility', 'snow', 'snowdepth']: 88304.25917572824\n",
      "['precip', 'windspeed', 'snow', 'snowdepth']: 83413.38663183774\n",
      "['precip', 'windspeed', 'visibility', 'snowdepth']: 86937.71699249254\n",
      "['precip', 'windspeed', 'visibility', 'snow']: 87511.92094083219\n",
      "['precip', 'windspeed', 'visibility', 'snow', 'snowdepth', 'feelslike']: 81435.37237793724\n",
      "Best of Final: ['precip', 'windspeed', 'visibility', 'snow', 'snowdepth'] with aic = 81435.02916548605\n",
      "\n",
      "                             OLS Regression Results                            \n",
      "===============================================================================\n",
      "Dep. Variable:     trip_count_in_month   R-squared:                       0.948\n",
      "Model:                             OLS   Adj. R-squared:                  0.948\n",
      "Method:                  Least Squares   F-statistic:                 5.495e+04\n",
      "Date:                 Sun, 21 Aug 2022   Prob (F-statistic):               0.00\n",
      "Time:                         23:46:37   Log-Likelihood:                -40712.\n",
      "No. Observations:                 3075   AIC:                         8.144e+04\n",
      "Df Residuals:                     3069   BIC:                         8.147e+04\n",
      "Df Model:                            5                                         \n",
      "Covariance Type:                   HC2                                         \n",
      "==============================================================================\n",
      "                 coef    std err          z      P>|z|      [0.025      0.975]\n",
      "------------------------------------------------------------------------------\n",
      "Intercept   1.038e+07   1.24e+05     84.017      0.000    1.01e+07    1.06e+07\n",
      "precip      -8.02e+04   3339.817    -24.013      0.000   -8.67e+04   -7.37e+04\n",
      "windspeed   1.219e+05    709.205    171.870      0.000    1.21e+05    1.23e+05\n",
      "visibility -4.316e+05   7260.936    -59.439      0.000   -4.46e+05   -4.17e+05\n",
      "snow         -3.1e+06    1.5e+04   -206.861      0.000   -3.13e+06   -3.07e+06\n",
      "snowdepth   1.646e+06   5171.460    318.220      0.000    1.64e+06    1.66e+06\n",
      "==============================================================================\n",
      "Omnibus:                       54.905   Durbin-Watson:                   0.007\n",
      "Prob(Omnibus):                  0.000   Jarque-Bera (JB):               57.595\n",
      "Skew:                          -0.335   Prob(JB):                     3.11e-13\n",
      "Kurtosis:                       2.996   Cond. No.                     1.54e+03\n",
      "==============================================================================\n",
      "\n",
      "Notes:\n",
      "[1] Standard Errors are heteroscedasticity robust (HC2)\n",
      "[2] The condition number is large, 1.54e+03. This might indicate that there are\n",
      "strong multicollinearity or other numerical problems.\n",
      "==============================================================================\n",
      "ANOVA TABLE\n",
      "                df        sum_sq       mean_sq             F         PR(>F)\n",
      "precip         1.0  3.263462e+13  3.263462e+13   1760.380043  1.748640e-304\n",
      "windspeed      1.0  6.400468e+14  6.400468e+14  34525.467034   0.000000e+00\n",
      "visibility     1.0  8.421175e+12  8.421175e+12    454.255850   4.103518e-94\n",
      "snow           1.0  9.968535e+11  9.968535e+11     53.772368   2.865907e-13\n",
      "snowdepth      1.0  3.538912e+14  3.538912e+14  19089.632501   0.000000e+00\n",
      "Residual    3069.0  5.689434e+13  1.853840e+10           NaN            NaN\n",
      "==============================================================================\n",
      "RMSE = 1.663e+06\n"
     ]
    }
   ],
   "source": [
    "stepwise_selection(pu_2019, \n",
    "                   'trip_count_in_month', \n",
    "                   ['feelslike', 'precip', 'windspeed', 'visibility', 'snow', 'snowdepth']\n",
    "                   )\n",
    "model1 = ols(formula = \"trip_count_in_month ~ precip + windspeed + visibility + snow + snowdepth\",\n",
    "             data = pu_2019\n",
    "            ).fit(cov_type = 'HC2')\n",
    "\n",
    "trip_count_pred = model1.predict(pu_2020)\n",
    "print_model_performance(pu_2020['trip_count_in_month'], trip_count_pred, model1)"
   ]
  },
  {
   "cell_type": "markdown",
   "metadata": {},
   "source": [
    "## How do populations and property prices impact the pick-up number in a zone?"
   ]
  },
  {
   "cell_type": "code",
   "execution_count": 5,
   "metadata": {
    "ExecuteTime": {
     "end_time": "2022-08-21T13:46:38.063809Z",
     "start_time": "2022-08-21T13:46:37.857230Z"
    },
    "scrolled": true
   },
   "outputs": [
    {
     "name": "stdout",
     "output_type": "stream",
     "text": [
      "Stage 1\n",
      "['Population_By_LocationID', 'Density_per_hectare', 'ln_Price_per_square_feet', 'ln_Population_By_LocationID', 'ln_Density_per_hectare']: 90313.80632220773\n",
      "['Price_per_square_feet', 'Density_per_hectare', 'ln_Price_per_square_feet', 'ln_Population_By_LocationID', 'ln_Density_per_hectare']: 90403.5455995837\n",
      "['Price_per_square_feet', 'Population_By_LocationID', 'ln_Price_per_square_feet', 'ln_Population_By_LocationID', 'ln_Density_per_hectare']: 90579.29825345267\n",
      "['Price_per_square_feet', 'Population_By_LocationID', 'Density_per_hectare', 'ln_Population_By_LocationID', 'ln_Density_per_hectare']: 90234.52737446017\n",
      "['Price_per_square_feet', 'Population_By_LocationID', 'Density_per_hectare', 'ln_Price_per_square_feet', 'ln_Density_per_hectare']: 90233.25976031511\n",
      "['Price_per_square_feet', 'Population_By_LocationID', 'Density_per_hectare', 'ln_Price_per_square_feet', 'ln_Population_By_LocationID']: 90233.07929795384\n",
      "Best of Stage 1: ['Price_per_square_feet', 'Population_By_LocationID', 'Density_per_hectare', 'ln_Price_per_square_feet', 'ln_Population_By_LocationID'] with aic = 90233.07929795384\n",
      "Stage 2\n",
      "['Population_By_LocationID', 'Density_per_hectare', 'ln_Price_per_square_feet', 'ln_Population_By_LocationID']: 90312.10222011982\n",
      "['Price_per_square_feet', 'Density_per_hectare', 'ln_Price_per_square_feet', 'ln_Population_By_LocationID']: 90433.0014449566\n",
      "['Price_per_square_feet', 'Population_By_LocationID', 'ln_Price_per_square_feet', 'ln_Population_By_LocationID']: 90870.36692792611\n",
      "['Price_per_square_feet', 'Population_By_LocationID', 'Density_per_hectare', 'ln_Population_By_LocationID']: 90233.03280114097\n",
      "['Price_per_square_feet', 'Population_By_LocationID', 'Density_per_hectare', 'ln_Price_per_square_feet']: 90238.78324369593\n",
      "['Price_per_square_feet', 'Population_By_LocationID', 'Density_per_hectare', 'ln_Price_per_square_feet', 'ln_Population_By_LocationID', 'ln_Density_per_hectare']: 90234.6545393724\n",
      "Best of Stage 2: ['Price_per_square_feet', 'Population_By_LocationID', 'Density_per_hectare', 'ln_Population_By_LocationID'] with aic = 90233.03280114097\n",
      "Stage 3\n",
      "['Population_By_LocationID', 'Density_per_hectare', 'ln_Population_By_LocationID']: 90491.00314703597\n",
      "['Price_per_square_feet', 'Density_per_hectare', 'ln_Population_By_LocationID']: 90431.00200166316\n",
      "['Price_per_square_feet', 'Population_By_LocationID', 'ln_Population_By_LocationID']: 90870.1393306381\n",
      "['Price_per_square_feet', 'Population_By_LocationID', 'Density_per_hectare']: 90238.98372934264\n",
      "['Price_per_square_feet', 'Population_By_LocationID', 'Density_per_hectare', 'ln_Population_By_LocationID', 'ln_Price_per_square_feet']: 90233.07929795384\n",
      "['Price_per_square_feet', 'Population_By_LocationID', 'Density_per_hectare', 'ln_Population_By_LocationID', 'ln_Density_per_hectare']: 90234.52737446017\n",
      "Best of Final: ['Price_per_square_feet', 'Population_By_LocationID', 'Density_per_hectare', 'ln_Population_By_LocationID'] with aic = 90233.03280114097\n",
      "\n",
      "                            OLS Regression Results                            \n",
      "==============================================================================\n",
      "Dep. Variable:       trip_count_total   R-squared:                       0.324\n",
      "Model:                            OLS   Adj. R-squared:                  0.323\n",
      "Method:                 Least Squares   F-statistic:                     202.4\n",
      "Date:                Sun, 21 Aug 2022   Prob (F-statistic):          6.91e-187\n",
      "Time:                        23:46:38   Log-Likelihood:                -45111.\n",
      "No. Observations:                3075   AIC:                         9.023e+04\n",
      "Df Residuals:                    3069   BIC:                         9.027e+04\n",
      "Df Model:                           5                                         \n",
      "Covariance Type:                  HC2                                         \n",
      "===============================================================================================\n",
      "                                  coef    std err          z      P>|z|      [0.025      0.975]\n",
      "-----------------------------------------------------------------------------------------------\n",
      "Intercept                   -3.074e+05   9.99e+04     -3.076      0.002   -5.03e+05   -1.12e+05\n",
      "Price_per_square_feet         814.6399    103.841      7.845      0.000     611.115    1018.165\n",
      "Population_By_LocationID       -9.0476      0.551    -16.412      0.000     -10.128      -7.967\n",
      "Density_per_hectare          2585.9154    111.617     23.168      0.000    2367.151    2804.680\n",
      "ln_Price_per_square_feet     4.383e+04   1.96e+04      2.241      0.025    5496.659    8.22e+04\n",
      "ln_Population_By_LocationID -2.132e+04   7382.190     -2.887      0.004   -3.58e+04   -6846.795\n",
      "==============================================================================\n",
      "Omnibus:                     1326.587   Durbin-Watson:                   1.538\n",
      "Prob(Omnibus):                  0.000   Jarque-Bera (JB):             6488.571\n",
      "Skew:                           2.054   Prob(JB):                         0.00\n",
      "Kurtosis:                       8.811   Cond. No.                     6.65e+05\n",
      "==============================================================================\n",
      "\n",
      "Notes:\n",
      "[1] Standard Errors are heteroscedasticity robust (HC2)\n",
      "[2] The condition number is large, 6.65e+05. This might indicate that there are\n",
      "strong multicollinearity or other numerical problems.\n",
      "==============================================================================\n",
      "ANOVA TABLE\n",
      "                                 df        sum_sq       mean_sq           F  \\\n",
      "Price_per_square_feet           1.0  1.989921e+14  1.989921e+14  614.016484   \n",
      "Population_By_LocationID        1.0  3.886621e+13  3.886621e+13  119.926829   \n",
      "Density_per_hectare             1.0  2.365455e+14  2.365455e+14  729.892385   \n",
      "ln_Price_per_square_feet        1.0  7.137885e+11  7.137885e+11    2.202489   \n",
      "ln_Population_By_LocationID     1.0  2.494968e+12  2.494968e+12    7.698553   \n",
      "Residual                     3069.0  9.946097e+14  3.240827e+11         NaN   \n",
      "\n",
      "                                    PR(>F)  \n",
      "Price_per_square_feet        1.009065e-123  \n",
      "Population_By_LocationID      2.095948e-27  \n",
      "Density_per_hectare          2.133464e-144  \n",
      "ln_Price_per_square_feet      1.378908e-01  \n",
      "ln_Population_By_LocationID   5.559963e-03  \n",
      "Residual                               NaN  \n",
      "==============================================================================\n",
      "RMSE = 4.516e+05\n"
     ]
    }
   ],
   "source": [
    "stepwise_selection(pu_2019, \n",
    "                   'trip_count_total', \n",
    "                   ['Price_per_square_feet', 'Population_By_LocationID', 'Density_per_hectare', \n",
    "                    'ln_Price_per_square_feet', 'ln_Population_By_LocationID', 'ln_Density_per_hectare']\n",
    "                   )\n",
    "\n",
    "model2 = ols(formula = \"trip_count_total ~ Price_per_square_feet \\\n",
    "                        + Population_By_LocationID + Density_per_hectare \\\n",
    "                        + ln_Price_per_square_feet + ln_Population_By_LocationID\",\n",
    "             data = pu_2019\n",
    "            ).fit(cov_type = 'HC2')\n",
    "\n",
    "trip_count_pred = model2.predict(pu_2020)\n",
    "print_model_performance(pu_2020['trip_count_total'], trip_count_pred, model2)"
   ]
  },
  {
   "cell_type": "markdown",
   "metadata": {},
   "source": [
    "## How do populations and property prices impact the drop-off number in a zone?"
   ]
  },
  {
   "cell_type": "code",
   "execution_count": 6,
   "metadata": {
    "ExecuteTime": {
     "end_time": "2022-08-21T13:46:38.325070Z",
     "start_time": "2022-08-21T13:46:38.065499Z"
    },
    "scrolled": true
   },
   "outputs": [
    {
     "name": "stdout",
     "output_type": "stream",
     "text": [
      "Stage 1\n",
      "['Population_By_LocationID', 'Density_per_hectare', 'ln_Price_per_square_feet', 'ln_Population_By_LocationID', 'ln_Density_per_hectare']: 13103.167609860033\n",
      "['Price_per_square_feet', 'Density_per_hectare', 'ln_Price_per_square_feet', 'ln_Population_By_LocationID', 'ln_Density_per_hectare']: 13128.468292195046\n",
      "['Price_per_square_feet', 'Population_By_LocationID', 'ln_Price_per_square_feet', 'ln_Population_By_LocationID', 'ln_Density_per_hectare']: 13154.127982278043\n",
      "['Price_per_square_feet', 'Population_By_LocationID', 'Density_per_hectare', 'ln_Population_By_LocationID', 'ln_Density_per_hectare']: 13101.853478709972\n",
      "['Price_per_square_feet', 'Population_By_LocationID', 'Density_per_hectare', 'ln_Price_per_square_feet', 'ln_Density_per_hectare']: 13102.335683218664\n",
      "['Price_per_square_feet', 'Population_By_LocationID', 'Density_per_hectare', 'ln_Price_per_square_feet', 'ln_Population_By_LocationID']: 13101.76226525108\n",
      "Best of Stage 1: ['Price_per_square_feet', 'Population_By_LocationID', 'Density_per_hectare', 'ln_Price_per_square_feet', 'ln_Population_By_LocationID'] with aic = 13101.76226525108\n",
      "Stage 2\n",
      "['Population_By_LocationID', 'Density_per_hectare', 'ln_Price_per_square_feet', 'ln_Population_By_LocationID']: 13102.148969109152\n",
      "['Price_per_square_feet', 'Density_per_hectare', 'ln_Price_per_square_feet', 'ln_Population_By_LocationID']: 13137.870441198964\n",
      "['Price_per_square_feet', 'Population_By_LocationID', 'ln_Price_per_square_feet', 'ln_Population_By_LocationID']: 13216.64924051238\n",
      "['Price_per_square_feet', 'Population_By_LocationID', 'Density_per_hectare', 'ln_Population_By_LocationID']: 13100.562969108301\n",
      "['Price_per_square_feet', 'Population_By_LocationID', 'Density_per_hectare', 'ln_Price_per_square_feet']: 13100.677283392932\n",
      "['Price_per_square_feet', 'Population_By_LocationID', 'Density_per_hectare', 'ln_Price_per_square_feet', 'ln_Population_By_LocationID', 'ln_Density_per_hectare']: 13103.436992324421\n",
      "Best of Stage 2: ['Price_per_square_feet', 'Population_By_LocationID', 'Density_per_hectare', 'ln_Population_By_LocationID'] with aic = 13100.562969108301\n",
      "Stage 3\n",
      "['Population_By_LocationID', 'Density_per_hectare', 'ln_Population_By_LocationID']: 13100.307364899692\n",
      "['Price_per_square_feet', 'Density_per_hectare', 'ln_Population_By_LocationID']: 13136.507949713758\n",
      "['Price_per_square_feet', 'Population_By_LocationID', 'ln_Population_By_LocationID']: 13218.875248594979\n",
      "['Price_per_square_feet', 'Population_By_LocationID', 'Density_per_hectare']: 13099.893329688148\n",
      "['Price_per_square_feet', 'Population_By_LocationID', 'Density_per_hectare', 'ln_Population_By_LocationID', 'ln_Price_per_square_feet']: 13101.76226525108\n",
      "['Price_per_square_feet', 'Population_By_LocationID', 'Density_per_hectare', 'ln_Population_By_LocationID', 'ln_Density_per_hectare']: 13101.853478709972\n",
      "Best of Stage 3: ['Price_per_square_feet', 'Population_By_LocationID', 'Density_per_hectare'] with aic = 13099.893329688148\n",
      "Stage 4\n",
      "['Population_By_LocationID', 'Density_per_hectare']: 13099.500926528173\n",
      "['Price_per_square_feet', 'Density_per_hectare']: 13171.265571405447\n",
      "['Price_per_square_feet', 'Population_By_LocationID']: 13220.601946233248\n",
      "['Price_per_square_feet', 'Population_By_LocationID', 'Density_per_hectare', 'ln_Price_per_square_feet']: 13100.677283392932\n",
      "['Price_per_square_feet', 'Population_By_LocationID', 'Density_per_hectare', 'ln_Population_By_LocationID']: 13100.562969108301\n",
      "['Price_per_square_feet', 'Population_By_LocationID', 'Density_per_hectare', 'ln_Density_per_hectare']: 13101.545782402625\n",
      "Best of Stage 4: ['Population_By_LocationID', 'Density_per_hectare'] with aic = 13099.500926528173\n",
      "Stage 5\n",
      "['Density_per_hectare']: 13174.60659807186\n",
      "['Population_By_LocationID']: 13231.332039126706\n",
      "['Population_By_LocationID', 'Density_per_hectare', 'Price_per_square_feet']: 13099.893329688148\n",
      "['Population_By_LocationID', 'Density_per_hectare', 'ln_Price_per_square_feet']: 13101.455801382152\n",
      "['Population_By_LocationID', 'Density_per_hectare', 'ln_Population_By_LocationID']: 13100.307364899692\n",
      "['Population_By_LocationID', 'Density_per_hectare', 'ln_Density_per_hectare']: 13101.238120021104\n",
      "Best of Final: ['Population_By_LocationID', 'Density_per_hectare'] with aic = 13099.500926528173\n",
      "\n",
      "                            OLS Regression Results                            \n",
      "==============================================================================\n",
      "Dep. Variable:       trip_count_total   R-squared:                       0.261\n",
      "Model:                            OLS   Adj. R-squared:                  0.258\n",
      "Method:                 Least Squares   F-statistic:                     63.88\n",
      "Date:                Sun, 21 Aug 2022   Prob (F-statistic):           1.81e-25\n",
      "Time:                        23:46:38   Log-Likelihood:                -6546.8\n",
      "No. Observations:                 510   AIC:                         1.310e+04\n",
      "Df Residuals:                     507   BIC:                         1.311e+04\n",
      "Df Model:                           2                                         \n",
      "Covariance Type:                  HC2                                         \n",
      "============================================================================================\n",
      "                               coef    std err          z      P>|z|      [0.025      0.975]\n",
      "--------------------------------------------------------------------------------------------\n",
      "Intercept                 2.951e+04   7716.247      3.824      0.000    1.44e+04    4.46e+04\n",
      "Population_By_LocationID    -1.7419      0.185     -9.395      0.000      -2.105      -1.378\n",
      "Density_per_hectare        435.4510     43.232     10.073      0.000     350.719     520.183\n",
      "==============================================================================\n",
      "Omnibus:                      271.671   Durbin-Watson:                   1.837\n",
      "Prob(Omnibus):                  0.000   Jarque-Bera (JB):             1593.430\n",
      "Skew:                           2.350   Prob(JB):                         0.00\n",
      "Kurtosis:                      10.273   Cond. No.                     7.65e+04\n",
      "==============================================================================\n",
      "\n",
      "Notes:\n",
      "[1] Standard Errors are heteroscedasticity robust (HC2)\n",
      "[2] The condition number is large, 7.65e+04. This might indicate that there are\n",
      "strong multicollinearity or other numerical problems.\n",
      "==============================================================================\n",
      "ANOVA TABLE\n",
      "                             df        sum_sq       mean_sq           F  \\\n",
      "Population_By_LocationID    1.0  2.256835e+11  2.256835e+11   27.135567   \n",
      "Density_per_hectare         1.0  1.265271e+12  1.265271e+12  152.132746   \n",
      "Residual                  507.0  4.216662e+12  8.316887e+09         NaN   \n",
      "\n",
      "                                PR(>F)  \n",
      "Population_By_LocationID  2.763412e-07  \n",
      "Density_per_hectare       9.433850e-31  \n",
      "Residual                           NaN  \n",
      "==============================================================================\n",
      "RMSE = 8.009e+04\n"
     ]
    }
   ],
   "source": [
    "stepwise_selection(do_2019, \n",
    "                   'trip_count_total', \n",
    "                   ['Price_per_square_feet', 'Population_By_LocationID', 'Density_per_hectare', \n",
    "                    'ln_Price_per_square_feet', 'ln_Population_By_LocationID', 'ln_Density_per_hectare']\n",
    "                   )\n",
    "\n",
    "model3 = ols(formula = \"trip_count_total ~ Population_By_LocationID + Density_per_hectare\",\n",
    "             data = do_2019\n",
    "            ).fit(cov_type = 'HC2')\n",
    "\n",
    "trip_count_pred = model3.predict(do_2020)\n",
    "print_model_performance(do_2020['trip_count_total'], trip_count_pred, model3)"
   ]
  }
 ],
 "metadata": {
  "kernelspec": {
   "display_name": "Python 3",
   "language": "python",
   "name": "python3"
  },
  "language_info": {
   "codemirror_mode": {
    "name": "ipython",
    "version": 3
   },
   "file_extension": ".py",
   "mimetype": "text/x-python",
   "name": "python",
   "nbconvert_exporter": "python",
   "pygments_lexer": "ipython3",
   "version": "3.8.3"
  }
 },
 "nbformat": 4,
 "nbformat_minor": 4
}
