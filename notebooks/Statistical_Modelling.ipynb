{
 "cells": [
  {
   "cell_type": "code",
   "execution_count": 8,
   "metadata": {
    "ExecuteTime": {
     "end_time": "2022-08-24T16:25:19.275846Z",
     "start_time": "2022-08-24T16:25:18.395343Z"
    }
   },
   "outputs": [],
   "source": [
    "import pandas as pd\n",
    "import numpy as np\n",
    "import statsmodels.api as sm\n",
    "from statsmodels.formula.api import ols\n",
    "from sklearn.linear_model import LassoCV\n",
    "from sklearn.metrics import mean_squared_error\n",
    "np.set_printoptions(precision = 3)"
   ]
  },
  {
   "cell_type": "markdown",
   "metadata": {},
   "source": [
    "# Preparation for statistics modelling"
   ]
  },
  {
   "cell_type": "code",
   "execution_count": 9,
   "metadata": {
    "ExecuteTime": {
     "end_time": "2022-08-24T16:25:19.322275Z",
     "start_time": "2022-08-24T16:25:19.278146Z"
    }
   },
   "outputs": [],
   "source": [
    "pu_2019 = pd.read_csv('../data/curated/pu_2019.csv')\n",
    "do_2019 = pd.read_csv('../data/curated/pu_2020.csv')\n",
    "pu_2020 = pd.read_csv('../data/curated/pu_2020.csv')\n",
    "do_2020 = pd.read_csv('../data/curated/do_2020.csv')\n",
    "all_data = [pu_2019, do_2019, pu_2020, do_2020]\n",
    "\n",
    "# Drop duplicate rows\n",
    "weather_2019 = pu_2019.drop_duplicates(subset = ['month'])\n",
    "weather_2020 = pu_2020.drop_duplicates(subset = ['month'])\n",
    "\n",
    "for data in all_data:\n",
    "    data.drop_duplicates(subset = ['LocationID'], inplace = True)\n",
    "    data['ln_trip_count_total'] = np.log(data['trip_count_total'])\n",
    "    data['ln_Price_per_square_feet'] = np.log(data['Price_per_square_feet'])\n",
    "    data['ln_Population_By_LocationID'] = np.log(data['Population_By_LocationID'])\n",
    "    data['ln_Density_per_hectare'] = np.log(data['Density_per_hectare'])"
   ]
  },
  {
   "cell_type": "code",
   "execution_count": 10,
   "metadata": {
    "ExecuteTime": {
     "end_time": "2022-08-24T16:25:19.332645Z",
     "start_time": "2022-08-24T16:25:19.324483Z"
    }
   },
   "outputs": [],
   "source": [
    "def print_model_performance(true, pred, model):\n",
    "    \"\"\"\n",
    "    print the summary, anova table and rmse of a given linear model\n",
    "    \"\"\"\n",
    "    print(model.summary())\n",
    "    print(\"=\" * 78)\n",
    "    anova_table = sm.stats.anova_lm(model, robust = \"hc2\")\n",
    "    print(\"ANOVA TABLE\")\n",
    "    print(anova_table)\n",
    "    print(\"=\" * 78)\n",
    "    mask = ~np.isnan(true) & ~np.isnan(pred)\n",
    "    true = true[mask]\n",
    "    pred = pred[mask]\n",
    "    print('RMSE = {:<.4}'.format(np.sqrt(mean_squared_error(true, pred))))\n",
    "    \n",
    "    \n",
    "def stepwise_selection(data, response, all_covariates, __covariates=None, __min_aic=np.inf, counter=1):\n",
    "    \"\"\"\n",
    "    print the model attributes with lowest aic\n",
    "    \"\"\"\n",
    "    print(f\"Stage {counter}\")\n",
    "    before_aic = __min_aic\n",
    "    min_aic = __min_aic\n",
    "    if __min_aic == np.inf:\n",
    "        __covariates = all_covariates\n",
    "    # Remove one covariate and check the aic \n",
    "    for var in __covariates:\n",
    "        new_covariates = [x for x in __covariates if x != var]\n",
    "        formula = response + '~' + '+'.join(new_covariates)\n",
    "        curr_model = ols(formula = formula, data = data).fit()\n",
    "        print(f\"{new_covariates}: {curr_model.aic}\")\n",
    "        if curr_model.aic < min_aic:\n",
    "            min_aic = curr_model.aic\n",
    "            best_model = curr_model\n",
    "    # Add one covariate and check the aic\n",
    "    for var in all_covariates:\n",
    "        if var in __covariates:\n",
    "            continue\n",
    "        new_covariates = list(__covariates) + [var, ]\n",
    "        formula = response + '~' + '+'.join(new_covariates)\n",
    "        curr_model = ols(formula = formula, data = data).fit()\n",
    "        print(f\"{new_covariates}: {curr_model.aic}\")\n",
    "        if curr_model.aic < min_aic:\n",
    "            min_aic = curr_model.aic\n",
    "            best_model = curr_model\n",
    "    if before_aic == min_aic:\n",
    "        print(f\"Best of Final: {list(__covariates)} with aic = {before_aic}\\n\")\n",
    "    else:\n",
    "        __covariates = best_model.params.index[1:]\n",
    "        print(f\"Best of Stage {counter}: {list(__covariates)} with aic = {best_model.aic}\")\n",
    "        return stepwise_selection(data, response, all_covariates, __covariates, min_aic, counter=counter+1)"
   ]
  },
  {
   "cell_type": "markdown",
   "metadata": {},
   "source": [
    "# Modelling"
   ]
  },
  {
   "cell_type": "markdown",
   "metadata": {},
   "source": [
    "## How does weather impact the number of trips?"
   ]
  },
  {
   "cell_type": "code",
   "execution_count": 11,
   "metadata": {},
   "outputs": [
    {
     "name": "stdout",
     "output_type": "stream",
     "text": [
      "                             OLS Regression Results                            \n",
      "===============================================================================\n",
      "Dep. Variable:     trip_count_in_month   R-squared:                      -0.000\n",
      "Model:                             OLS   Adj. R-squared:                 -0.000\n",
      "Method:                  Least Squares   F-statistic:                       nan\n",
      "Date:                 Mon, 02 Oct 2023   Prob (F-statistic):                nan\n",
      "Time:                         15:57:49   Log-Likelihood:                -176.60\n",
      "No. Observations:                   12   AIC:                             355.2\n",
      "Df Residuals:                       11   BIC:                             355.7\n",
      "Df Model:                            0                                         \n",
      "Covariance Type:                   HC2                                         \n",
      "==============================================================================\n",
      "                 coef    std err          z      P>|z|      [0.025      0.975]\n",
      "------------------------------------------------------------------------------\n",
      "Intercept   6.453e+06    1.8e+05     35.904      0.000     6.1e+06     6.8e+06\n",
      "==============================================================================\n",
      "Omnibus:                        0.116   Durbin-Watson:                   0.369\n",
      "Prob(Omnibus):                  0.943   Jarque-Bera (JB):                0.320\n",
      "Skew:                           0.133   Prob(JB):                        0.852\n",
      "Kurtosis:                       2.245   Cond. No.                         1.00\n",
      "==============================================================================\n",
      "\n",
      "Notes:\n",
      "[1] Standard Errors are heteroscedasticity robust (HC2)\n",
      "==============================================================================\n",
      "ANOVA TABLE\n",
      "            df        sum_sq       mean_sq   F  PR(>F)\n",
      "Residual  11.0  4.263550e+12  3.875955e+11 NaN     NaN\n",
      "==============================================================================\n",
      "RMSE = 6.792e+05\n"
     ]
    },
    {
     "name": "stderr",
     "output_type": "stream",
     "text": [
      "/Library/Frameworks/Python.framework/Versions/3.8/lib/python3.8/site-packages/scipy/stats/stats.py:1603: UserWarning: kurtosistest only valid for n>=20 ... continuing anyway, n=12\n",
      "  warnings.warn(\"kurtosistest only valid for n>=20 ... continuing \"\n"
     ]
    }
   ],
   "source": [
    "model0 = ols(formula = \"trip_count_in_month ~ 1\",\n",
    "             data = weather_2019\n",
    "            ).fit(cov_type = 'HC2')\n",
    "\n",
    "trip_count_pred = model0.predict(weather_2020)\n",
    "print_model_performance(weather_2020['trip_count_in_month'], trip_count_pred, model0)"
   ]
  },
  {
   "cell_type": "code",
   "execution_count": 12,
   "metadata": {
    "ExecuteTime": {
     "end_time": "2022-08-24T16:25:19.514615Z",
     "start_time": "2022-08-24T16:25:19.335000Z"
    },
    "scrolled": false
   },
   "outputs": [
    {
     "name": "stdout",
     "output_type": "stream",
     "text": [
      "Stage 1\n",
      "['precip', 'windspeed', 'visibility', 'snow', 'snowdepth']: 329.7807298377206\n",
      "['feelslike', 'windspeed', 'visibility', 'snow', 'snowdepth']: 331.5688226895277\n",
      "['feelslike', 'precip', 'visibility', 'snow', 'snowdepth']: 342.4714215089548\n",
      "['feelslike', 'precip', 'windspeed', 'snow', 'snowdepth']: 337.48268110804077\n",
      "['feelslike', 'precip', 'windspeed', 'visibility', 'snowdepth']: 350.3016083464621\n",
      "['feelslike', 'precip', 'windspeed', 'visibility', 'snow']: 353.3592973962748\n",
      "Best of Stage 1: ['precip', 'windspeed', 'visibility', 'snow', 'snowdepth'] with aic = 329.7807298377206\n",
      "Stage 2\n",
      "['windspeed', 'visibility', 'snow', 'snowdepth']: 329.6553835187358\n",
      "['precip', 'visibility', 'snow', 'snowdepth']: 354.55438077889653\n",
      "['precip', 'windspeed', 'snow', 'snowdepth']: 335.48922132414583\n"
     ]
    },
    {
     "name": "stdout",
     "output_type": "stream",
     "text": [
      "['precip', 'windspeed', 'visibility', 'snowdepth']: 349.225415878455\n",
      "['precip', 'windspeed', 'visibility', 'snow']: 351.4536714484183\n",
      "['precip', 'windspeed', 'visibility', 'snow', 'snowdepth', 'feelslike']: 331.77441279540744\n",
      "Best of Stage 2: ['windspeed', 'visibility', 'snow', 'snowdepth'] with aic = 329.6553835187358\n",
      "Stage 3\n",
      "['visibility', 'snow', 'snowdepth']: 355.0132032323735\n",
      "['windspeed', 'snow', 'snowdepth']: 336.8205955564831\n",
      "['windspeed', 'visibility', 'snowdepth']: 347.234416087303\n",
      "['windspeed', 'visibility', 'snow']: 349.46656801965867\n",
      "['windspeed', 'visibility', 'snow', 'snowdepth', 'feelslike']: 331.5688226895277\n",
      "['windspeed', 'visibility', 'snow', 'snowdepth', 'precip']: 329.7807298377206\n",
      "Best of Final: ['windspeed', 'visibility', 'snow', 'snowdepth'] with aic = 329.6553835187358\n",
      "\n",
      "                             OLS Regression Results                            \n",
      "===============================================================================\n",
      "Dep. Variable:     trip_count_in_month   R-squared:                       0.939\n",
      "Model:                             OLS   Adj. R-squared:                  0.904\n",
      "Method:                  Least Squares   F-statistic:                     24.67\n",
      "Date:                 Mon, 02 Oct 2023   Prob (F-statistic):           0.000319\n",
      "Time:                         15:57:49   Log-Likelihood:                -159.83\n",
      "No. Observations:                   12   AIC:                             329.7\n",
      "Df Residuals:                        7   BIC:                             332.1\n",
      "Df Model:                            4                                         \n",
      "Covariance Type:                   HC2                                         \n",
      "==============================================================================\n",
      "                 coef    std err          z      P>|z|      [0.025      0.975]\n",
      "------------------------------------------------------------------------------\n",
      "Intercept   7.632e+06   1.62e+06      4.719      0.000    4.46e+06    1.08e+07\n",
      "windspeed   1.277e+05   1.53e+04      8.360      0.000    9.77e+04    1.58e+05\n",
      "visibility -2.716e+05   1.17e+05     -2.319      0.020   -5.01e+05   -4.21e+04\n",
      "snow       -3.012e+06   4.91e+05     -6.135      0.000   -3.97e+06   -2.05e+06\n",
      "snowdepth    1.61e+06   2.27e+05      7.081      0.000    1.16e+06    2.06e+06\n",
      "==============================================================================\n",
      "Omnibus:                        1.791   Durbin-Watson:                   1.821\n",
      "Prob(Omnibus):                  0.408   Jarque-Bera (JB):                0.299\n",
      "Skew:                           0.325   Prob(JB):                        0.861\n",
      "Kurtosis:                       3.418   Cond. No.                         742.\n",
      "==============================================================================\n",
      "\n",
      "Notes:\n",
      "[1] Standard Errors are heteroscedasticity robust (HC2)\n",
      "==============================================================================\n",
      "ANOVA TABLE\n",
      "             df        sum_sq       mean_sq          F    PR(>F)\n",
      "windspeed   1.0  2.570332e+12  2.570332e+12  69.129954  0.000071\n",
      "visibility  1.0  8.711548e+10  8.711548e+10   2.343000  0.169702\n",
      "snow        1.0  3.617224e+09  3.617224e+09   0.097286  0.764196\n",
      "snowdepth   1.0  1.342217e+12  1.342217e+12  36.099391  0.000538\n",
      "Residual    7.0  2.602681e+11  3.718116e+10        NaN       NaN\n",
      "==============================================================================\n",
      "RMSE = 1.597e+06\n"
     ]
    },
    {
     "name": "stderr",
     "output_type": "stream",
     "text": [
      "/Library/Frameworks/Python.framework/Versions/3.8/lib/python3.8/site-packages/scipy/stats/stats.py:1603: UserWarning: kurtosistest only valid for n>=20 ... continuing anyway, n=12\n",
      "  warnings.warn(\"kurtosistest only valid for n>=20 ... continuing \"\n"
     ]
    }
   ],
   "source": [
    "stepwise_selection(weather_2019, \n",
    "                   'trip_count_in_month', \n",
    "                   ['feelslike', 'precip', 'windspeed', 'visibility', 'snow', 'snowdepth']\n",
    "                   )\n",
    "model1 = ols(formula = \"trip_count_in_month ~ windspeed + visibility + snow + snowdepth\",\n",
    "             data = weather_2019\n",
    "            ).fit(cov_type = 'HC2')\n",
    "\n",
    "trip_count_pred = model1.predict(weather_2020)\n",
    "print_model_performance(weather_2020['trip_count_in_month'], trip_count_pred, model1)"
   ]
  },
  {
   "cell_type": "code",
   "execution_count": 13,
   "metadata": {
    "ExecuteTime": {
     "end_time": "2022-08-24T16:25:19.579953Z",
     "start_time": "2022-08-24T16:25:19.516682Z"
    }
   },
   "outputs": [
    {
     "name": "stdout",
     "output_type": "stream",
     "text": [
      "trip_count_in_month = 10316969.7 + -777.91157 * feelslike + -76968.009 * precip + 120234.948 * windspeed + -424543.97 * visibility + -3081987.8 * snow + 1632808.86 * snowdepth\n",
      "a = 133.6\n",
      "R2 = 0.9478\n",
      "RMSE = 1.622e+06\n"
     ]
    }
   ],
   "source": [
    "# Lasso regression\n",
    "y = ['trip_count_in_month']\n",
    "X = ['feelslike', 'precip', 'windspeed', 'visibility', 'snow', 'snowdepth']\n",
    "reg = LassoCV(cv = 5, \n",
    "              normalize = True, \n",
    "              random_state = 0).fit(weather_2019[X], np.array(weather_2019[y]).ravel())\n",
    "\n",
    "\n",
    "r2 = reg.score(weather_2019[X], weather_2019[y])\n",
    "trip_count_pred = reg.predict(weather_2020[X])\n",
    "rmse = np.sqrt(mean_squared_error(weather_2020[y], trip_count_pred))\n",
    "\n",
    "\n",
    "formula = 'trip_count_in_month = ' + str(reg.intercept_)[:10] + ' + ' \\\n",
    "            + ' + '.join([str(coef)[:10] + ' * ' + attr for coef, attr in zip(reg.coef_, X)])\n",
    "\n",
    "\n",
    "print(formula)\n",
    "print('a = {:<.4}'.format(reg.alpha_))\n",
    "print('R2 = {:<.4}'.format(r2))\n",
    "print('RMSE = {:<.4}'.format(rmse))"
   ]
  },
  {
   "cell_type": "markdown",
   "metadata": {},
   "source": [
    "## How do populations and property prices impact the pick-up number in a zone?"
   ]
  },
  {
   "cell_type": "code",
   "execution_count": 14,
   "metadata": {
    "ExecuteTime": {
     "end_time": "2022-08-24T16:25:19.660018Z",
     "start_time": "2022-08-24T16:25:19.581604Z"
    },
    "scrolled": false
   },
   "outputs": [
    {
     "name": "stdout",
     "output_type": "stream",
     "text": [
      "Stage 1\n",
      "['ln_Population_By_LocationID', 'ln_Density_per_hectare']: 1191.6306456449654\n",
      "['ln_Price_per_square_feet', 'ln_Density_per_hectare']: 1202.2730215821123\n",
      "['ln_Price_per_square_feet', 'ln_Population_By_LocationID']: 1232.963912940024\n",
      "Best of Stage 1: ['ln_Population_By_LocationID', 'ln_Density_per_hectare'] with aic = 1191.6306456449654\n",
      "Stage 2\n",
      "['ln_Density_per_hectare']: 1276.530487533489\n",
      "['ln_Population_By_LocationID']: 1309.0211083255085\n",
      "['ln_Population_By_LocationID', 'ln_Density_per_hectare', 'ln_Price_per_square_feet']: 1140.4996405237382\n",
      "Best of Stage 2: ['ln_Population_By_LocationID', 'ln_Density_per_hectare', 'ln_Price_per_square_feet'] with aic = 1140.4996405237382\n",
      "Stage 3\n",
      "['ln_Density_per_hectare', 'ln_Price_per_square_feet']: 1202.2730215821123\n",
      "['ln_Population_By_LocationID', 'ln_Price_per_square_feet']: 1232.963912940024\n",
      "['ln_Population_By_LocationID', 'ln_Density_per_hectare']: 1191.6306456449654\n",
      "Best of Final: ['ln_Population_By_LocationID', 'ln_Density_per_hectare', 'ln_Price_per_square_feet'] with aic = 1140.4996405237382\n",
      "\n",
      "                             OLS Regression Results                            \n",
      "===============================================================================\n",
      "Dep. Variable:     ln_trip_count_total   R-squared:                       0.490\n",
      "Model:                             OLS   Adj. R-squared:                  0.484\n",
      "Method:                  Least Squares   F-statistic:                     61.82\n",
      "Date:                 Mon, 02 Oct 2023   Prob (F-statistic):           5.13e-30\n",
      "Time:                         15:57:49   Log-Likelihood:                -566.25\n",
      "No. Observations:                  257   AIC:                             1140.\n",
      "Df Residuals:                      253   BIC:                             1155.\n",
      "Df Model:                            3                                         \n",
      "Covariance Type:                   HC2                                         \n",
      "===============================================================================================\n",
      "                                  coef    std err          z      P>|z|      [0.025      0.975]\n",
      "-----------------------------------------------------------------------------------------------\n",
      "Intercept                      -6.0168      2.850     -2.111      0.035     -11.603      -0.431\n",
      "ln_Price_per_square_feet        3.4079      0.427      7.986      0.000       2.572       4.244\n",
      "ln_Population_By_LocationID    -1.3515      0.172     -7.836      0.000      -1.690      -1.013\n",
      "ln_Density_per_hectare          1.6707      0.256      6.534      0.000       1.170       2.172\n",
      "==============================================================================\n",
      "Omnibus:                       33.607   Durbin-Watson:                   1.718\n",
      "Prob(Omnibus):                  0.000   Jarque-Bera (JB):               98.878\n",
      "Skew:                           0.535   Prob(JB):                     3.38e-22\n",
      "Kurtosis:                       5.844   Cond. No.                         289.\n",
      "==============================================================================\n",
      "\n",
      "Notes:\n",
      "[1] Standard Errors are heteroscedasticity robust (HC2)\n",
      "==============================================================================\n",
      "ANOVA TABLE\n",
      "                                df       sum_sq     mean_sq           F  \\\n",
      "ln_Price_per_square_feet       1.0   622.782715  622.782715  127.711622   \n",
      "ln_Population_By_LocationID    1.0    14.823336   14.823336    3.039764   \n",
      "ln_Density_per_hectare         1.0   548.048433  548.048433  112.386154   \n",
      "Residual                     253.0  1233.748538    4.876476         NaN   \n",
      "\n",
      "                                   PR(>F)  \n",
      "ln_Price_per_square_feet     3.041985e-24  \n",
      "ln_Population_By_LocationID  8.246247e-02  \n",
      "ln_Density_per_hectare       5.738835e-22  \n",
      "Residual                              NaN  \n",
      "==============================================================================\n",
      "RMSE = 3.326\n"
     ]
    }
   ],
   "source": [
    "stepwise_selection(pu_2019, \n",
    "                   'ln_trip_count_total', \n",
    "                   ['ln_Price_per_square_feet', 'ln_Population_By_LocationID', 'ln_Density_per_hectare']\n",
    "                   )\n",
    "\n",
    "model2 = ols(formula = \"ln_trip_count_total ~ ln_Price_per_square_feet + ln_Population_By_LocationID \\\n",
    "                        + ln_Density_per_hectare\",\n",
    "             data = pu_2019\n",
    "            ).fit(cov_type = 'HC2')\n",
    "\n",
    "trip_count_pred = model2.predict(pu_2020)\n",
    "print_model_performance(pu_2020['ln_trip_count_total'], trip_count_pred, model2)"
   ]
  },
  {
   "cell_type": "markdown",
   "metadata": {},
   "source": [
    "## How do populations and property prices impact the drop-off number in a zone?"
   ]
  },
  {
   "cell_type": "code",
   "execution_count": 15,
   "metadata": {
    "ExecuteTime": {
     "end_time": "2022-08-24T16:25:19.745873Z",
     "start_time": "2022-08-24T16:25:19.661981Z"
    },
    "scrolled": false
   },
   "outputs": [
    {
     "name": "stdout",
     "output_type": "stream",
     "text": [
      "Stage 1\n",
      "['ln_Population_By_LocationID', 'ln_Density_per_hectare']: 1216.133662201194\n",
      "['ln_Price_per_square_feet', 'ln_Density_per_hectare']: 1298.305493057976\n",
      "['ln_Price_per_square_feet', 'ln_Population_By_LocationID']: 1334.5240422916254\n",
      "Best of Stage 1: ['ln_Population_By_LocationID', 'ln_Density_per_hectare'] with aic = 1216.133662201194\n",
      "Stage 2\n",
      "['ln_Density_per_hectare']: 1304.0949285854415\n",
      "['ln_Population_By_LocationID']: 1338.3189587327447\n",
      "['ln_Population_By_LocationID', 'ln_Density_per_hectare', 'ln_Price_per_square_feet']: 1208.650326344783\n",
      "Best of Stage 2: ['ln_Population_By_LocationID', 'ln_Density_per_hectare', 'ln_Price_per_square_feet'] with aic = 1208.650326344783\n",
      "Stage 3\n",
      "['ln_Density_per_hectare', 'ln_Price_per_square_feet']: 1298.305493057976\n",
      "['ln_Population_By_LocationID', 'ln_Price_per_square_feet']: 1334.5240422916254\n",
      "['ln_Population_By_LocationID', 'ln_Density_per_hectare']: 1216.133662201194\n",
      "Best of Final: ['ln_Population_By_LocationID', 'ln_Density_per_hectare', 'ln_Price_per_square_feet'] with aic = 1208.650326344783\n",
      "\n",
      "                             OLS Regression Results                            \n",
      "===============================================================================\n",
      "Dep. Variable:     ln_trip_count_total   R-squared:                       0.408\n",
      "Model:                             OLS   Adj. R-squared:                  0.401\n",
      "Method:                  Least Squares   F-statistic:                     38.46\n",
      "Date:                 Mon, 02 Oct 2023   Prob (F-statistic):           1.70e-20\n",
      "Time:                         15:57:49   Log-Likelihood:                -600.33\n",
      "No. Observations:                  256   AIC:                             1209.\n",
      "Df Residuals:                      252   BIC:                             1223.\n",
      "Df Model:                            3                                         \n",
      "Covariance Type:                   HC2                                         \n",
      "===============================================================================================\n",
      "                                  coef    std err          z      P>|z|      [0.025      0.975]\n",
      "-----------------------------------------------------------------------------------------------\n",
      "Intercept                       5.4875      3.856      1.423      0.155      -2.069      13.045\n",
      "ln_Price_per_square_feet        1.5546      0.560      2.777      0.005       0.457       2.652\n",
      "ln_Population_By_LocationID    -1.8368      0.196     -9.366      0.000      -2.221      -1.452\n",
      "ln_Density_per_hectare          2.2105      0.281      7.877      0.000       1.660       2.761\n",
      "==============================================================================\n",
      "Omnibus:                       41.238   Durbin-Watson:                   1.976\n",
      "Prob(Omnibus):                  0.000   Jarque-Bera (JB):              106.319\n",
      "Skew:                           0.726   Prob(JB):                     8.19e-24\n",
      "Kurtosis:                       5.803   Cond. No.                         262.\n",
      "==============================================================================\n",
      "\n",
      "Notes:\n",
      "[1] Standard Errors are heteroscedasticity robust (HC2)\n",
      "==============================================================================\n",
      "ANOVA TABLE\n",
      "                                df       sum_sq      mean_sq           F  \\\n",
      "ln_Price_per_square_feet       1.0    59.383078    59.383078    9.171471   \n",
      "ln_Population_By_LocationID    1.0     9.584578     9.584578    1.480298   \n",
      "ln_Density_per_hectare         1.0  1057.152654  1057.152654  163.272857   \n",
      "Residual                     252.0  1631.639661     6.474761         NaN   \n",
      "\n",
      "                                   PR(>F)  \n",
      "ln_Price_per_square_feet     2.713550e-03  \n",
      "ln_Population_By_LocationID  2.248661e-01  \n",
      "ln_Density_per_hectare       3.692834e-29  \n",
      "Residual                              NaN  \n",
      "==============================================================================\n",
      "RMSE = 2.532\n"
     ]
    }
   ],
   "source": [
    "stepwise_selection(do_2019, \n",
    "                   'ln_trip_count_total', \n",
    "                   [ 'ln_Price_per_square_feet', 'ln_Population_By_LocationID', 'ln_Density_per_hectare']\n",
    "                   )\n",
    "\n",
    "model3 = ols(formula = \"ln_trip_count_total ~ ln_Price_per_square_feet + ln_Population_By_LocationID \\\n",
    "                        + ln_Density_per_hectare\",\n",
    "             data = do_2019\n",
    "            ).fit(cov_type = 'HC2')\n",
    "\n",
    "trip_count_pred = model3.predict(do_2020)\n",
    "print_model_performance(do_2020['ln_trip_count_total'], trip_count_pred, model3)"
   ]
  }
 ],
 "metadata": {
  "kernelspec": {
   "display_name": "Python 3.8.3 64-bit",
   "language": "python",
   "name": "python3"
  },
  "language_info": {
   "codemirror_mode": {
    "name": "ipython",
    "version": 3
   },
   "file_extension": ".py",
   "mimetype": "text/x-python",
   "name": "python",
   "nbconvert_exporter": "python",
   "pygments_lexer": "ipython3",
   "version": "3.8.3"
  },
  "vscode": {
   "interpreter": {
    "hash": "082e9a3bcad0a290d0001e938aa60b99250c6c2ef33a923c00b70f9826caf4b7"
   }
  }
 },
 "nbformat": 4,
 "nbformat_minor": 4
}
