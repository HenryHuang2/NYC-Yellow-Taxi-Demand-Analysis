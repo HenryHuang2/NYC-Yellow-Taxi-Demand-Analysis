{
 "cells": [
  {
   "cell_type": "code",
   "execution_count": 44,
   "metadata": {
    "ExecuteTime": {
     "end_time": "2022-08-21T06:47:07.665919Z",
     "start_time": "2022-08-21T06:47:07.659370Z"
    }
   },
   "outputs": [],
   "source": [
    "import pandas as pd\n",
    "import numpy as np\n",
    "import seaborn as sns\n",
    "import matplotlib.pyplot as plt\n",
    "import statsmodels.api as sm\n",
    "from statsmodels.formula.api import ols\n",
    "from sklearn.metrics import mean_squared_error"
   ]
  },
  {
   "cell_type": "markdown",
   "metadata": {},
   "source": [
    "# Preparation for statistics modelling"
   ]
  },
  {
   "cell_type": "code",
   "execution_count": 45,
   "metadata": {
    "ExecuteTime": {
     "end_time": "2022-08-21T06:47:08.527523Z",
     "start_time": "2022-08-21T06:47:08.473957Z"
    }
   },
   "outputs": [],
   "source": [
    "pu_2019 = pd.read_csv('../data/curated/pu_2019.csv')\n",
    "do_2019 = pd.read_csv('../data/curated/pu_2020.csv')\n",
    "pu_2020 = pd.read_csv('../data/curated/pu_2020.csv')\n",
    "do_2020 = pd.read_csv('../data/curated/do_2020.csv')\n",
    "\n",
    "# EWR Airport has NaN population, we will fill 0 \\\n",
    "# because airport should have very few population\n",
    "all_data = [pu_2019, do_2019, pu_2020, do_2020]\n",
    "for data in all_data:\n",
    "    data.fillna(0, inplace = True)"
   ]
  },
  {
   "cell_type": "code",
   "execution_count": 248,
   "metadata": {
    "ExecuteTime": {
     "end_time": "2022-08-21T12:51:07.676982Z",
     "start_time": "2022-08-21T12:51:07.665289Z"
    }
   },
   "outputs": [],
   "source": [
    "def print_model_performance(true, pred, model):\n",
    "    \"\"\"\n",
    "    print the summary, anova table and rmse of a given linear model\n",
    "    \"\"\"\n",
    "    print(model.summary())\n",
    "    print(\"=\" * 78)\n",
    "    anova_table = sm.stats.anova_lm(model, robust = \"hc2\")\n",
    "    print(\"ANOVA TABLE\")\n",
    "    print(anova_table)\n",
    "    print(\"=\" * 78)\n",
    "    print('RMSE = {:<.4}'.format(np.sqrt(mean_squared_error(true, pred))))\n",
    "    \n",
    "    \n",
    "def stepwise_selection(data, response, all_covariates, __covariates=None, __min_aic=np.inf, counter=1):\n",
    "    \"\"\"\n",
    "    print the model attributes with lowest aic\n",
    "    \"\"\"\n",
    "    print(f\"Stage {counter}\")\n",
    "    before_aic = __min_aic\n",
    "    min_aic = __min_aic\n",
    "    if __min_aic == np.inf:\n",
    "        __covariates = all_covariates\n",
    "    # Remove one covariate and check the aic \n",
    "    for var in __covariates:\n",
    "        new_covariates = [x for x in __covariates if x != var]\n",
    "        formula = response + '~' + '+'.join(new_covariates)\n",
    "        curr_model = ols(formula = formula, data = data).fit()\n",
    "        print(f\"{new_covariates}: {curr_model.aic}\")\n",
    "        if curr_model.aic < min_aic:\n",
    "            min_aic = curr_model.aic\n",
    "            best_model = curr_model\n",
    "    # Add one covariate and check the aic\n",
    "    for var in all_covariates:\n",
    "        if var in __covariates:\n",
    "            continue\n",
    "        new_covariates = list(__covariates) + [var, ]\n",
    "        formula = response + '~' + '+'.join(new_covariates)\n",
    "        curr_model = ols(formula = formula, data = data).fit()\n",
    "        print(f\"{new_covariates}: {curr_model.aic}\")\n",
    "        if curr_model.aic < min_aic:\n",
    "            min_aic = curr_model.aic\n",
    "            best_model = curr_model\n",
    "    if before_aic == min_aic:\n",
    "        print(f\"Best of Final: {list(__covariates)} with aic = {before_aic}\\n\")\n",
    "    else:\n",
    "        __covariates = best_model.params.index[1:]\n",
    "        print(f\"Best of Stage {counter}: {list(__covariates)} with aic = {best_model.aic}\")\n",
    "        return stepwise_selection(data, response, all_covariates, __covariates, min_aic, counter=counter+1)"
   ]
  },
  {
   "cell_type": "markdown",
   "metadata": {},
   "source": [
    "# Modelling"
   ]
  },
  {
   "cell_type": "markdown",
   "metadata": {},
   "source": [
    "## How does weather impact the number of trips?"
   ]
  },
  {
   "cell_type": "code",
   "execution_count": 252,
   "metadata": {
    "ExecuteTime": {
     "end_time": "2022-08-21T13:10:11.163531Z",
     "start_time": "2022-08-21T13:10:10.998292Z"
    },
    "scrolled": true
   },
   "outputs": [
    {
     "name": "stdout",
     "output_type": "stream",
     "text": [
      "Stage 1\n",
      "['precip', 'windspeed', 'visibility', 'snow', 'snowdepth']: 81435.02916548605\n",
      "['feelslike', 'windspeed', 'visibility', 'snow', 'snowdepth']: 81892.35310940816\n",
      "['feelslike', 'precip', 'visibility', 'snow', 'snowdepth']: 84690.11198932484\n",
      "['feelslike', 'precip', 'windspeed', 'snow', 'snowdepth']: 83413.67931524539\n",
      "['feelslike', 'precip', 'windspeed', 'visibility', 'snowdepth']: 86702.8199638448\n",
      "['feelslike', 'precip', 'windspeed', 'visibility', 'snow']: 87489.39197811416\n",
      "Best of Stage 1: ['precip', 'windspeed', 'visibility', 'snow', 'snowdepth'] with aic = 81435.02916548605\n",
      "Stage 2\n",
      "['windspeed', 'visibility', 'snow', 'snowdepth']: 81912.58461788866\n",
      "['precip', 'visibility', 'snow', 'snowdepth']: 88304.25917572824\n",
      "['precip', 'windspeed', 'snow', 'snowdepth']: 83413.38663183774\n",
      "['precip', 'windspeed', 'visibility', 'snowdepth']: 86937.71699249254\n",
      "['precip', 'windspeed', 'visibility', 'snow']: 87511.92094083219\n",
      "['precip', 'windspeed', 'visibility', 'snow', 'snowdepth', 'feelslike']: 81435.37237793724\n",
      "Best of Final: ['precip', 'windspeed', 'visibility', 'snow', 'snowdepth'] with aic = 81435.02916548605\n",
      "\n",
      "                             OLS Regression Results                            \n",
      "===============================================================================\n",
      "Dep. Variable:     trip_count_in_month   R-squared:                       0.948\n",
      "Model:                             OLS   Adj. R-squared:                  0.948\n",
      "Method:                  Least Squares   F-statistic:                 5.495e+04\n",
      "Date:                 Sun, 21 Aug 2022   Prob (F-statistic):               0.00\n",
      "Time:                         23:10:11   Log-Likelihood:                -40712.\n",
      "No. Observations:                 3075   AIC:                         8.144e+04\n",
      "Df Residuals:                     3069   BIC:                         8.147e+04\n",
      "Df Model:                            5                                         \n",
      "Covariance Type:                   HC2                                         \n",
      "==============================================================================\n",
      "                 coef    std err          z      P>|z|      [0.025      0.975]\n",
      "------------------------------------------------------------------------------\n",
      "Intercept   1.038e+07   1.24e+05     84.017      0.000    1.01e+07    1.06e+07\n",
      "precip      -8.02e+04   3339.817    -24.013      0.000   -8.67e+04   -7.37e+04\n",
      "windspeed   1.219e+05    709.205    171.870      0.000    1.21e+05    1.23e+05\n",
      "visibility -4.316e+05   7260.936    -59.439      0.000   -4.46e+05   -4.17e+05\n",
      "snow         -3.1e+06    1.5e+04   -206.861      0.000   -3.13e+06   -3.07e+06\n",
      "snowdepth   1.646e+06   5171.460    318.220      0.000    1.64e+06    1.66e+06\n",
      "==============================================================================\n",
      "Omnibus:                       54.905   Durbin-Watson:                   0.007\n",
      "Prob(Omnibus):                  0.000   Jarque-Bera (JB):               57.595\n",
      "Skew:                          -0.335   Prob(JB):                     3.11e-13\n",
      "Kurtosis:                       2.996   Cond. No.                     1.54e+03\n",
      "==============================================================================\n",
      "\n",
      "Notes:\n",
      "[1] Standard Errors are heteroscedasticity robust (HC2)\n",
      "[2] The condition number is large, 1.54e+03. This might indicate that there are\n",
      "strong multicollinearity or other numerical problems.\n",
      "==============================================================================\n",
      "ANOVA TABLE\n",
      "                df        sum_sq       mean_sq             F         PR(>F)\n",
      "precip         1.0  3.263462e+13  3.263462e+13   1760.380043  1.748640e-304\n",
      "windspeed      1.0  6.400468e+14  6.400468e+14  34525.467034   0.000000e+00\n",
      "visibility     1.0  8.421175e+12  8.421175e+12    454.255850   4.103518e-94\n",
      "snow           1.0  9.968535e+11  9.968535e+11     53.772368   2.865907e-13\n",
      "snowdepth      1.0  3.538912e+14  3.538912e+14  19089.632501   0.000000e+00\n",
      "Residual    3069.0  5.689434e+13  1.853840e+10           NaN            NaN\n",
      "==============================================================================\n",
      "RMSE = 1.663e+06\n"
     ]
    }
   ],
   "source": [
    "stepwise_selection(pu_2019, \n",
    "                   'trip_count_in_month', \n",
    "                   ['feelslike', 'precip', 'windspeed', 'visibility', 'snow', 'snowdepth']\n",
    "                   )\n",
    "model1 = ols(formula = \"trip_count_in_month ~ precip + windspeed + visibility + snow + snowdepth\",\n",
    "             data = pu_2019\n",
    "            ).fit(cov_type = 'HC2')\n",
    "\n",
    "trip_count_pred = model1.predict(pu_2020)\n",
    "print_model_performance(pu_2020['trip_count_in_month'], trip_count_pred, model1)"
   ]
  },
  {
   "cell_type": "markdown",
   "metadata": {},
   "source": [
    "## How do populations and property prices impact the pick-up number in a zone?"
   ]
  },
  {
   "cell_type": "code",
   "execution_count": 250,
   "metadata": {
    "ExecuteTime": {
     "end_time": "2022-08-21T12:54:01.539167Z",
     "start_time": "2022-08-21T12:54:01.378127Z"
    },
    "scrolled": true
   },
   "outputs": [
    {
     "name": "stdout",
     "output_type": "stream",
     "text": [
      "Stage 1\n",
      "['Population_By_LocationID', 'Density_per_hectare', 'ln_Price_per_square_feet', 'ln_Population_By_LocationID', 'ln_Density_per_hectare']: 90358.61622545499\n",
      "['Price_per_square_feet', 'Density_per_hectare', 'ln_Price_per_square_feet', 'ln_Population_By_LocationID', 'ln_Density_per_hectare']: 90498.51785278012\n",
      "['Price_per_square_feet', 'Population_By_LocationID', 'ln_Price_per_square_feet', 'ln_Population_By_LocationID', 'ln_Density_per_hectare']: 90694.92951236301\n",
      "['Price_per_square_feet', 'Population_By_LocationID', 'Density_per_hectare', 'ln_Population_By_LocationID', 'ln_Density_per_hectare']: 90331.23744777114\n",
      "['Price_per_square_feet', 'Population_By_LocationID', 'Density_per_hectare', 'ln_Price_per_square_feet', 'ln_Density_per_hectare']: 90327.73466517241\n",
      "['Price_per_square_feet', 'Population_By_LocationID', 'Density_per_hectare', 'ln_Price_per_square_feet', 'ln_Population_By_LocationID']: 90325.01810164015\n",
      "Best of Stage 1: ['Price_per_square_feet', 'Population_By_LocationID', 'Density_per_hectare', 'ln_Price_per_square_feet', 'ln_Population_By_LocationID'] with aic = 90325.01810164015\n",
      "Stage 2\n",
      "['Population_By_LocationID', 'Density_per_hectare', 'ln_Price_per_square_feet', 'ln_Population_By_LocationID']: 90357.00235804926\n",
      "['Price_per_square_feet', 'Density_per_hectare', 'ln_Price_per_square_feet', 'ln_Population_By_LocationID']: 90535.14247790923\n",
      "['Price_per_square_feet', 'Population_By_LocationID', 'ln_Price_per_square_feet', 'ln_Population_By_LocationID']: 91046.63155578014\n",
      "['Price_per_square_feet', 'Population_By_LocationID', 'Density_per_hectare', 'ln_Population_By_LocationID']: 90329.30879316709\n",
      "['Price_per_square_feet', 'Population_By_LocationID', 'Density_per_hectare', 'ln_Price_per_square_feet']: 90336.66491637421\n",
      "['Price_per_square_feet', 'Population_By_LocationID', 'Density_per_hectare', 'ln_Price_per_square_feet', 'ln_Population_By_LocationID', 'ln_Density_per_hectare']: 90326.99201784989\n",
      "Best of Final: ['Price_per_square_feet', 'Population_By_LocationID', 'Density_per_hectare', 'ln_Price_per_square_feet', 'ln_Population_By_LocationID'] with aic = 90325.01810164015\n",
      "\n",
      "                            OLS Regression Results                            \n",
      "==============================================================================\n",
      "Dep. Variable:       trip_count_total   R-squared:                       0.304\n",
      "Model:                            OLS   Adj. R-squared:                  0.303\n",
      "Method:                 Least Squares   F-statistic:                     179.4\n",
      "Date:                Sun, 21 Aug 2022   Prob (F-statistic):          6.85e-168\n",
      "Time:                        22:54:01   Log-Likelihood:                -45157.\n",
      "No. Observations:                3075   AIC:                         9.033e+04\n",
      "Df Residuals:                    3069   BIC:                         9.036e+04\n",
      "Df Model:                           5                                         \n",
      "Covariance Type:                  HC2                                         \n",
      "===============================================================================================\n",
      "                                  coef    std err          z      P>|z|      [0.025      0.975]\n",
      "-----------------------------------------------------------------------------------------------\n",
      "Intercept                   -3.032e+05   1.05e+05     -2.900      0.004   -5.08e+05   -9.83e+04\n",
      "Price_per_square_feet         502.1593     95.280      5.270      0.000     315.414     688.905\n",
      "Population_By_LocationID       -9.4032      0.560    -16.777      0.000     -10.502      -8.305\n",
      "Density_per_hectare          2763.9274    111.793     24.724      0.000    2544.817    2983.038\n",
      "ln_Price_per_square_feet     7.926e+04   1.99e+04      3.982      0.000    4.02e+04    1.18e+05\n",
      "ln_Population_By_LocationID -2.875e+04   7134.061     -4.031      0.000   -4.27e+04   -1.48e+04\n",
      "==============================================================================\n",
      "Omnibus:                     1314.067   Durbin-Watson:                   1.571\n",
      "Prob(Omnibus):                  0.000   Jarque-Bera (JB):             6513.660\n",
      "Skew:                           2.024   Prob(JB):                         0.00\n",
      "Kurtosis:                       8.869   Cond. No.                     6.59e+05\n",
      "==============================================================================\n",
      "\n",
      "Notes:\n",
      "[1] Standard Errors are heteroscedasticity robust (HC2)\n",
      "[2] The condition number is large, 6.59e+05. This might indicate that there are\n",
      "strong multicollinearity or other numerical problems.\n",
      "==============================================================================\n",
      "ANOVA TABLE\n",
      "                                 df        sum_sq       mean_sq           F  \\\n",
      "Price_per_square_feet           1.0  1.197763e+14  1.197763e+14  358.698920   \n",
      "Population_By_LocationID        1.0  4.860557e+13  4.860557e+13  145.561105   \n",
      "Density_per_hectare             1.0  2.722360e+14  2.722360e+14  815.276351   \n",
      "ln_Price_per_square_feet        1.0  2.249917e+12  2.249917e+12    6.737919   \n",
      "ln_Population_By_LocationID     1.0  4.558141e+12  4.558141e+12   13.650455   \n",
      "Residual                     3069.0  1.024796e+15  3.339187e+11         NaN   \n",
      "\n",
      "                                    PR(>F)  \n",
      "Price_per_square_feet         9.604455e-76  \n",
      "Population_By_LocationID      8.831024e-33  \n",
      "Density_per_hectare          3.142123e-159  \n",
      "ln_Price_per_square_feet      9.483454e-03  \n",
      "ln_Population_By_LocationID   2.240309e-04  \n",
      "Residual                               NaN  \n",
      "==============================================================================\n",
      "RMSE = 4.389e+05\n"
     ]
    }
   ],
   "source": [
    "stepwise_selection(pu_2019, \n",
    "                   'trip_count_total', \n",
    "                   ['Price_per_square_feet', 'Population_By_LocationID', 'Density_per_hectare', \n",
    "                    'ln_Price_per_square_feet', 'ln_Population_By_LocationID', 'ln_Density_per_hectare']\n",
    "                   )\n",
    "\n",
    "model2 = ols(formula = \"trip_count_total ~ Price_per_square_feet \\\n",
    "                        + Population_By_LocationID + Density_per_hectare \\\n",
    "                        + ln_Price_per_square_feet + ln_Population_By_LocationID\",\n",
    "             data = pu_2019\n",
    "            ).fit(cov_type = 'HC2')\n",
    "\n",
    "trip_count_pred = model2.predict(pu_2020)\n",
    "print_model_performance(pu_2020['trip_count_total'], trip_count_pred, model2)"
   ]
  },
  {
   "cell_type": "markdown",
   "metadata": {},
   "source": [
    "## How do populations and property prices impact the drop-off number in a zone?"
   ]
  },
  {
   "cell_type": "code",
   "execution_count": 251,
   "metadata": {
    "ExecuteTime": {
     "end_time": "2022-08-21T12:57:01.958492Z",
     "start_time": "2022-08-21T12:57:01.697035Z"
    },
    "scrolled": true
   },
   "outputs": [
    {
     "name": "stdout",
     "output_type": "stream",
     "text": [
      "Stage 1\n",
      "['Population_By_LocationID', 'Density_per_hectare', 'ln_Price_per_square_feet', 'ln_Population_By_LocationID', 'ln_Density_per_hectare']: 13103.54137980514\n",
      "['Price_per_square_feet', 'Density_per_hectare', 'ln_Price_per_square_feet', 'ln_Population_By_LocationID', 'ln_Density_per_hectare']: 13130.891062014007\n",
      "['Price_per_square_feet', 'Population_By_LocationID', 'ln_Price_per_square_feet', 'ln_Population_By_LocationID', 'ln_Density_per_hectare']: 13157.48289280656\n",
      "['Price_per_square_feet', 'Population_By_LocationID', 'Density_per_hectare', 'ln_Population_By_LocationID', 'ln_Density_per_hectare']: 13103.204997847064\n",
      "['Price_per_square_feet', 'Population_By_LocationID', 'Density_per_hectare', 'ln_Price_per_square_feet', 'ln_Density_per_hectare']: 13103.250452459677\n",
      "['Price_per_square_feet', 'Population_By_LocationID', 'Density_per_hectare', 'ln_Price_per_square_feet', 'ln_Population_By_LocationID']: 13102.744371697001\n",
      "Best of Stage 1: ['Price_per_square_feet', 'Population_By_LocationID', 'Density_per_hectare', 'ln_Price_per_square_feet', 'ln_Population_By_LocationID'] with aic = 13102.744371697001\n",
      "Stage 2\n",
      "['Population_By_LocationID', 'Density_per_hectare', 'ln_Price_per_square_feet', 'ln_Population_By_LocationID']: 13102.287437835332\n",
      "['Price_per_square_feet', 'Density_per_hectare', 'ln_Price_per_square_feet', 'ln_Population_By_LocationID']: 13140.365595505149\n",
      "['Price_per_square_feet', 'Population_By_LocationID', 'ln_Price_per_square_feet', 'ln_Population_By_LocationID']: 13222.665038253992\n",
      "['Price_per_square_feet', 'Population_By_LocationID', 'Density_per_hectare', 'ln_Population_By_LocationID']: 13101.932534869571\n",
      "['Price_per_square_feet', 'Population_By_LocationID', 'Density_per_hectare', 'ln_Price_per_square_feet']: 13101.569474334172\n",
      "['Price_per_square_feet', 'Population_By_LocationID', 'Density_per_hectare', 'ln_Price_per_square_feet', 'ln_Population_By_LocationID', 'ln_Density_per_hectare']: 13104.478332832714\n",
      "Best of Stage 2: ['Price_per_square_feet', 'Population_By_LocationID', 'Density_per_hectare', 'ln_Price_per_square_feet'] with aic = 13101.569474334172\n",
      "Stage 3\n",
      "['Population_By_LocationID', 'Density_per_hectare', 'ln_Price_per_square_feet']: 13101.339667409406\n",
      "['Price_per_square_feet', 'Density_per_hectare', 'ln_Price_per_square_feet']: 13171.919333937887\n",
      "['Price_per_square_feet', 'Population_By_LocationID', 'ln_Price_per_square_feet']: 13226.075421216472\n",
      "['Price_per_square_feet', 'Population_By_LocationID', 'Density_per_hectare']: 13101.239194695456\n",
      "['Price_per_square_feet', 'Population_By_LocationID', 'Density_per_hectare', 'ln_Price_per_square_feet', 'ln_Population_By_LocationID']: 13102.744371697001\n",
      "['Price_per_square_feet', 'Population_By_LocationID', 'Density_per_hectare', 'ln_Price_per_square_feet', 'ln_Density_per_hectare']: 13103.250452459677\n",
      "Best of Stage 3: ['Price_per_square_feet', 'Population_By_LocationID', 'Density_per_hectare'] with aic = 13101.239194695456\n",
      "Stage 4\n",
      "['Population_By_LocationID', 'Density_per_hectare']: 13099.538628114655\n",
      "['Price_per_square_feet', 'Density_per_hectare']: 13175.414266946043\n",
      "['Price_per_square_feet', 'Population_By_LocationID']: 13227.154992462763\n",
      "['Price_per_square_feet', 'Population_By_LocationID', 'Density_per_hectare', 'ln_Price_per_square_feet']: 13101.569474334172\n",
      "['Price_per_square_feet', 'Population_By_LocationID', 'Density_per_hectare', 'ln_Population_By_LocationID']: 13101.932534869571\n",
      "['Price_per_square_feet', 'Population_By_LocationID', 'Density_per_hectare', 'ln_Density_per_hectare']: 13102.910313867984\n",
      "Best of Stage 4: ['Population_By_LocationID', 'Density_per_hectare'] with aic = 13099.538628114655\n",
      "Stage 5\n",
      "['Density_per_hectare']: 13174.644685569281\n",
      "['Population_By_LocationID']: 13231.370373399306\n",
      "['Population_By_LocationID', 'Density_per_hectare', 'Price_per_square_feet']: 13101.239194695456\n",
      "['Population_By_LocationID', 'Density_per_hectare', 'ln_Price_per_square_feet']: 13101.339667409406\n",
      "['Population_By_LocationID', 'Density_per_hectare', 'ln_Population_By_LocationID']: 13100.345162933545\n",
      "['Population_By_LocationID', 'Density_per_hectare', 'ln_Density_per_hectare']: 13101.275879391333\n",
      "Best of Final: ['Population_By_LocationID', 'Density_per_hectare'] with aic = 13099.538628114655\n",
      "\n",
      "                            OLS Regression Results                            \n",
      "==============================================================================\n",
      "Dep. Variable:       trip_count_total   R-squared:                       0.262\n",
      "Model:                            OLS   Adj. R-squared:                  0.257\n",
      "Method:                 Least Squares   F-statistic:                     44.01\n",
      "Date:                Sun, 21 Aug 2022   Prob (F-statistic):           2.78e-25\n",
      "Time:                        22:57:01   Log-Likelihood:                -6546.6\n",
      "No. Observations:                 510   AIC:                         1.310e+04\n",
      "Df Residuals:                     506   BIC:                         1.312e+04\n",
      "Df Model:                           3                                         \n",
      "Covariance Type:                  HC2                                         \n",
      "============================================================================================\n",
      "                               coef    std err          z      P>|z|      [0.025      0.975]\n",
      "--------------------------------------------------------------------------------------------\n",
      "Intercept                 2.528e+04   1.28e+04      1.974      0.048     177.452    5.04e+04\n",
      "Price_per_square_feet        9.1935     19.510      0.471      0.637     -29.046      47.433\n",
      "Population_By_LocationID    -1.7345      0.189     -9.176      0.000      -2.105      -1.364\n",
      "Density_per_hectare        431.8298     44.220      9.766      0.000     345.161     518.499\n",
      "==============================================================================\n",
      "Omnibus:                      273.411   Durbin-Watson:                   1.858\n",
      "Prob(Omnibus):                  0.000   Jarque-Bera (JB):             1621.720\n",
      "Skew:                           2.364   Prob(JB):                         0.00\n",
      "Kurtosis:                      10.346   Cond. No.                     1.07e+05\n",
      "==============================================================================\n",
      "\n",
      "Notes:\n",
      "[1] Standard Errors are heteroscedasticity robust (HC2)\n",
      "[2] The condition number is large, 1.07e+05. This might indicate that there are\n",
      "strong multicollinearity or other numerical problems.\n",
      "==============================================================================\n",
      "ANOVA TABLE\n",
      "                             df        sum_sq       mean_sq           F  \\\n",
      "Price_per_square_feet       1.0  6.823514e+10  6.823514e+10    8.192429   \n",
      "Population_By_LocationID    1.0  2.238742e+11  2.238742e+11   26.878724   \n",
      "Density_per_hectare         1.0  1.201438e+12  1.201438e+12  144.246784   \n",
      "Residual                  506.0  4.214498e+12  8.329048e+09         NaN   \n",
      "\n",
      "                                PR(>F)  \n",
      "Price_per_square_feet     4.380853e-03  \n",
      "Population_By_LocationID  3.137147e-07  \n",
      "Density_per_hectare       2.065285e-29  \n",
      "Residual                           NaN  \n",
      "==============================================================================\n",
      "RMSE = 8e+04\n",
      "13101.239194695456\n"
     ]
    }
   ],
   "source": [
    "stepwise_selection(do_2019, \n",
    "                   'trip_count_total', \n",
    "                   ['Price_per_square_feet', 'Population_By_LocationID', 'Density_per_hectare', \n",
    "                    'ln_Price_per_square_feet', 'ln_Population_By_LocationID', 'ln_Density_per_hectare']\n",
    "                   )\n",
    "\n",
    "model3 = ols(formula = \"trip_count_total ~ Population_By_LocationID + Density_per_hectare\",\n",
    "             data = do_2019\n",
    "            ).fit(cov_type = 'HC2')\n",
    "\n",
    "trip_count_pred = model3.predict(do_2020)\n",
    "print_model_performance(do_2020['trip_count_total'], trip_count_pred, model3)"
   ]
  }
 ],
 "metadata": {
  "kernelspec": {
   "display_name": "Python 3",
   "language": "python",
   "name": "python3"
  },
  "language_info": {
   "codemirror_mode": {
    "name": "ipython",
    "version": 3
   },
   "file_extension": ".py",
   "mimetype": "text/x-python",
   "name": "python",
   "nbconvert_exporter": "python",
   "pygments_lexer": "ipython3",
   "version": "3.8.3"
  }
 },
 "nbformat": 4,
 "nbformat_minor": 4
}
