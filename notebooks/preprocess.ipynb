{
 "cells": [
  {
   "cell_type": "markdown",
   "metadata": {},
   "source": [
    "# Preprocess the TLC Data"
   ]
  },
  {
   "cell_type": "code",
   "execution_count": 1,
   "metadata": {
    "ExecuteTime": {
     "end_time": "2022-08-07T14:50:57.231961Z",
     "start_time": "2022-08-07T14:50:57.111079Z"
    }
   },
   "outputs": [],
   "source": [
    "from pyspark.sql import SparkSession\n",
    "from pyspark.sql import functions as F"
   ]
  },
  {
   "cell_type": "code",
   "execution_count": 2,
   "metadata": {
    "ExecuteTime": {
     "end_time": "2022-08-07T14:51:00.341216Z",
     "start_time": "2022-08-07T14:50:57.234617Z"
    }
   },
   "outputs": [],
   "source": [
    "spark = (\n",
    "    SparkSession.builder.appName(\"preprocess\")\n",
    "    .config(\"spark.sql.repl.eagerEval.enabled\", True) \n",
    "    .config(\"spark.sql.parquet.cacheMetadata\", \"true\")\n",
    "    .getOrCreate()\n",
    ")\n",
    "# .config(\"spark.executor.memory\", \"4g\")"
   ]
  },
  {
   "cell_type": "code",
   "execution_count": 3,
   "metadata": {
    "ExecuteTime": {
     "end_time": "2022-08-07T14:51:03.680001Z",
     "start_time": "2022-08-07T14:51:00.347227Z"
    }
   },
   "outputs": [],
   "source": [
    "sdf = spark.read.parquet('../data/raw/yellow_taxi_data_2019/')"
   ]
  },
  {
   "cell_type": "markdown",
   "metadata": {},
   "source": [
    "# Preliminary data analysis"
   ]
  },
  {
   "cell_type": "code",
   "execution_count": 12,
   "metadata": {
    "ExecuteTime": {
     "end_time": "2022-08-07T14:54:51.374640Z",
     "start_time": "2022-08-07T14:54:51.128877Z"
    }
   },
   "outputs": [
    {
     "name": "stdout",
     "output_type": "stream",
     "text": [
      "total of 84,598,444 rows\n"
     ]
    }
   ],
   "source": [
    "print(f'total of {sdf.count():,} rows')"
   ]
  },
  {
   "cell_type": "code",
   "execution_count": 13,
   "metadata": {
    "ExecuteTime": {
     "end_time": "2022-08-07T14:54:51.486314Z",
     "start_time": "2022-08-07T14:54:51.476997Z"
    }
   },
   "outputs": [
    {
     "name": "stdout",
     "output_type": "stream",
     "text": [
      "root\n",
      " |-- VendorID: long (nullable = true)\n",
      " |-- tpep_pickup_datetime: timestamp (nullable = true)\n",
      " |-- tpep_dropoff_datetime: timestamp (nullable = true)\n",
      " |-- passenger_count: double (nullable = true)\n",
      " |-- trip_distance: double (nullable = true)\n",
      " |-- RatecodeID: double (nullable = true)\n",
      " |-- store_and_fwd_flag: string (nullable = true)\n",
      " |-- PULocationID: long (nullable = true)\n",
      " |-- DOLocationID: long (nullable = true)\n",
      " |-- payment_type: long (nullable = true)\n",
      " |-- fare_amount: double (nullable = true)\n",
      " |-- extra: double (nullable = true)\n",
      " |-- mta_tax: double (nullable = true)\n",
      " |-- tip_amount: double (nullable = true)\n",
      " |-- tolls_amount: double (nullable = true)\n",
      " |-- improvement_surcharge: double (nullable = true)\n",
      " |-- total_amount: double (nullable = true)\n",
      " |-- congestion_surcharge: double (nullable = true)\n",
      " |-- airport_fee: integer (nullable = true)\n",
      "\n"
     ]
    }
   ],
   "source": [
    "sdf.printSchema()"
   ]
  },
  {
   "cell_type": "code",
   "execution_count": 14,
   "metadata": {
    "ExecuteTime": {
     "end_time": "2022-08-07T14:54:52.343686Z",
     "start_time": "2022-08-07T14:54:52.327286Z"
    }
   },
   "outputs": [],
   "source": [
    "# we are not interested in these attributes\n",
    "\n",
    "new_sdf = sdf.drop('VendorID', \n",
    "                   'store_and_fwd_flag', \n",
    "                   'extra',\n",
    "                   'mta_tax', \n",
    "                   'tolls_amount', \n",
    "                   'improvement_surcharge',\n",
    "                   'total_amount',\n",
    "                   'congestion_surcharge',\n",
    "                   'airport_fee')"
   ]
  },
  {
   "cell_type": "code",
   "execution_count": 15,
   "metadata": {
    "ExecuteTime": {
     "end_time": "2022-08-07T14:54:57.011485Z",
     "start_time": "2022-08-07T14:54:53.431766Z"
    }
   },
   "outputs": [
    {
     "name": "stdout",
     "output_type": "stream",
     "text": [
      "+-------+------------------+------------------+------------------+------------------+-------------------+\n",
      "|summary|        tip_amount|     trip_distance|   passenger_count|        RatecodeID|       payment_type|\n",
      "+-------+------------------+------------------+------------------+------------------+-------------------+\n",
      "|  count|          84598444|          84598444|          84154061|          84154061|           84598444|\n",
      "|   mean| 2.190078737505638|3.0183506184817515|1.5626654190817957| 1.061297933084893| 1.2825886963121922|\n",
      "| stddev|15.638996154306168| 8.093902044464816|1.2079081585219809|0.7596134346977569|0.48687669531746225|\n",
      "|    min|            -221.0|         -37264.53|               0.0|               1.0|                  0|\n",
      "|    max|         141492.02|          45977.22|               9.0|              99.0|                  5|\n",
      "+-------+------------------+------------------+------------------+------------------+-------------------+\n",
      "\n"
     ]
    }
   ],
   "source": [
    "# Check the statistics for interested attributes\n",
    "new_sdf.describe(['tip_amount', 'trip_distance', 'passenger_count', 'RatecodeID', 'payment_type']).show()"
   ]
  },
  {
   "cell_type": "code",
   "execution_count": 16,
   "metadata": {
    "ExecuteTime": {
     "end_time": "2022-08-07T14:55:00.200310Z",
     "start_time": "2022-08-07T14:54:57.016077Z"
    }
   },
   "outputs": [
    {
     "name": "stdout",
     "output_type": "stream",
     "text": [
      "tpep_pickup_datetime has 0 null value(s)\n",
      "tpep_dropoff_datetime has 0 null value(s)\n",
      "passenger_count has 444383 null value(s)\n",
      "trip_distance has 0 null value(s)\n",
      "RatecodeID has 444383 null value(s)\n",
      "PULocationID has 0 null value(s)\n",
      "DOLocationID has 0 null value(s)\n",
      "payment_type has 0 null value(s)\n",
      "fare_amount has 0 null value(s)\n",
      "tip_amount has 0 null value(s)\n"
     ]
    }
   ],
   "source": [
    "# Check null value\n",
    "for column in new_sdf.columns:\n",
    "    print(f'{column} has {new_sdf.where(F.col(column).isNull()).count()} null value(s)')"
   ]
  },
  {
   "cell_type": "code",
   "execution_count": 9,
   "metadata": {
    "ExecuteTime": {
     "end_time": "2022-08-07T14:51:04.094142Z",
     "start_time": "2022-08-07T14:51:03.747051Z"
    }
   },
   "outputs": [],
   "source": [
    "# Modify the sdf\n",
    "# line 19: Drop the rows with null passenger_count and RatecodeID\n",
    "# line 20~21: Remove data not in 2019\n",
    "# line 22: A reasonable tip amount between 0 and 250 which is at most 50% of fare amount\n",
    "# line 23: A reasonable trip distance is between 0 and 100\n",
    "# line 24: A reasonable fare amount is between 2.5(initial charge) and 500 (1/5 mile == 1 usd if Rate #04)\n",
    "# line 25: RateCodeID should be one of the integer in the range of 1-6\n",
    "# line 26: Only trips paid by credit card are of our interest\n",
    "# line 27: Passenger count must not be zero\n",
    "# line 28~29: Zone 264, 265 are unknown zone\n",
    "# line 30~33: Extract the pick-up month, day and hour\n",
    "# line 34: trip_distance in kilometres\n",
    "# line 35~36: duaration of trips\n",
    "# line 37: weekday and weekend \n",
    "# line 38: is the tips > 0\n",
    "\n",
    "\n",
    "new_sdf_mdf = new_sdf \\\n",
    "            .dropna(how='any') \\\n",
    "            .filter((F.year('tpep_pickup_datetime') == 2019) & \n",
    "                    (F.year('tpep_dropoff_datetime') == 2019) == True) \\\n",
    "            .filter((F.col('tip_amount') >= 0) & (F.col('tip_amount') < 250)) \\\n",
    "            .filter((F.col('trip_distance') > 0) & (F.col('trip_distance') < 100)) \\\n",
    "            .filter((F.col('fare_amount') >= 2.5) & (F.col('fare_amount') < 500)) \\\n",
    "            .filter(F.col('RatecodeID').isin(list(range(1, 7)))) \\\n",
    "            .filter(F.col('payment_type') == 1) \\\n",
    "            .filter(F.col('passenger_count') != 0) \\\n",
    "            .filter((F.col('PULocationID').isin([264, 265]) == False) & \n",
    "                    (F.col('DOLocationID').isin([264, 265]) == False)) \\\n",
    "            .withColumn('PUMonth', F.month(F.col('tpep_pickup_datetime'))) \\\n",
    "            .withColumn('PUDay', F.dayofmonth(F.col('tpep_pickup_datetime'))) \\\n",
    "            .withColumn('PUDayofweek', (F.dayofweek(F.col('tpep_pickup_datetime'))+5)%7+1) \\\n",
    "            .withColumn('PUHour', F.hour(F.col('tpep_pickup_datetime'))) \\\n",
    "            .withColumn('trip_distance(km)', F.col('trip_distance') * 1.60934) \\\n",
    "            .withColumn('time_difference(s)', F.col('tpep_dropoff_datetime').cast('long') - \\\n",
    "                                                F.col('tpep_pickup_datetime').cast('long')) \\\n",
    "            .withColumn('is_weekend', F.dayofweek('tpep_pickup_datetime').isin([1, 7])) \\\n",
    "            .withColumn('tips_given', F.col('tip_amount') > 0)\n",
    "                     "
   ]
  },
  {
   "cell_type": "code",
   "execution_count": 10,
   "metadata": {
    "ExecuteTime": {
     "end_time": "2022-08-07T14:52:08.830632Z",
     "start_time": "2022-08-07T14:51:04.095905Z"
    }
   },
   "outputs": [
    {
     "name": "stdout",
     "output_type": "stream",
     "text": [
      "+------------+-------+-----+------------------+-------------------+----------------+\n",
      "|PULocationID|PUMonth|PUDay|max_tip_amount_usd| avg_tip_amount_usd|total_trip_count|\n",
      "+------------+-------+-----+------------------+-------------------+----------------+\n",
      "|         191|      3|    2|              1.03|0.06058823529411765|              17|\n",
      "|         106|      3|    2|              6.76| 2.0241935483870974|              31|\n",
      "|         224|      3|    3|             17.15|   2.58779126213592|             412|\n",
      "|          12|      3|    3|             11.06|  3.589666666666667|              30|\n",
      "|         223|      3|    3|             14.64|  4.161764705882353|              51|\n",
      "|          54|      3|    4|             13.76|              4.996|               5|\n",
      "|         126|      3|    5|               0.0|                0.0|               6|\n",
      "|         200|      3|    5|               0.0|                0.0|               5|\n",
      "|         125|      3|    6|              23.0| 2.8295638382236317|            1261|\n",
      "|          12|      3|    6|             11.32|  3.816341463414634|              41|\n",
      "|         228|      3|    7|             12.21| 1.4607142857142859|              28|\n",
      "|          62|      3|    7|               7.0|               0.65|              20|\n",
      "|         107|      3|    8|             21.31|  2.608082970259511|            5279|\n",
      "|         249|      3|    8|             24.39|  2.640007253384906|            4136|\n",
      "|         242|      3|    8|              4.36|             0.4925|              12|\n",
      "|          81|      3|    8|               0.0|                0.0|               8|\n",
      "|         160|      3|    9|             12.61|              2.677|              10|\n",
      "|          87|      3|   13|              25.0| 3.6678852568378937|            1499|\n",
      "|         208|      3|   13|               0.0|                0.0|               8|\n",
      "|           7|      3|   15|             10.56|  2.003014705882353|             136|\n",
      "+------------+-------+-----+------------------+-------------------+----------------+\n",
      "only showing top 20 rows\n",
      "\n"
     ]
    }
   ],
   "source": [
    "aggregated_result1 = new_sdf_mdf \\\n",
    "                    .groupBy(\"PULocationID\", \n",
    "                             \"PUMonth\", \n",
    "                             \"PUDay\"\n",
    "                            ) \\\n",
    "                    .agg(\n",
    "                        F.max(\"tip_amount\").alias(\"max_tip_amount_usd\"),\n",
    "                        F.mean(\"tip_amount\").alias(\"avg_tip_amount_usd\"),\n",
    "                        F.count(\"PULocationID\").alias(\"total_trip_count\")\n",
    "                    )\n",
    "\n",
    "aggregated_result1.show()"
   ]
  },
  {
   "cell_type": "code",
   "execution_count": 11,
   "metadata": {
    "ExecuteTime": {
     "end_time": "2022-08-07T14:54:02.218717Z",
     "start_time": "2022-08-07T14:52:08.834382Z"
    }
   },
   "outputs": [],
   "source": [
    "# write out the aggregated results that are grouped by PU and DO location\n",
    "aggregated_result1.write.mode('overwrite').parquet('../data/curated/aggregated_results1_2019')"
   ]
  }
 ],
 "metadata": {
  "kernelspec": {
   "display_name": "Python 3",
   "language": "python",
   "name": "python3"
  },
  "language_info": {
   "codemirror_mode": {
    "name": "ipython",
    "version": 3
   },
   "file_extension": ".py",
   "mimetype": "text/x-python",
   "name": "python",
   "nbconvert_exporter": "python",
   "pygments_lexer": "ipython3",
   "version": "3.8.3"
  }
 },
 "nbformat": 4,
 "nbformat_minor": 4
}
