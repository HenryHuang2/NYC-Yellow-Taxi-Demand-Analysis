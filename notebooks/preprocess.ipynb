{
 "cells": [
  {
   "cell_type": "markdown",
   "metadata": {},
   "source": [
    "# Preprocess the TLC Data"
   ]
  },
  {
   "cell_type": "code",
   "execution_count": 1,
   "metadata": {
    "ExecuteTime": {
     "end_time": "2022-08-07T13:21:59.148835Z",
     "start_time": "2022-08-07T13:21:58.980731Z"
    }
   },
   "outputs": [],
   "source": [
    "from pyspark.sql import SparkSession\n",
    "from pyspark.sql import functions as F"
   ]
  },
  {
   "cell_type": "code",
   "execution_count": 2,
   "metadata": {
    "ExecuteTime": {
     "end_time": "2022-08-07T13:22:02.441738Z",
     "start_time": "2022-08-07T13:21:59.151537Z"
    }
   },
   "outputs": [],
   "source": [
    "spark = (\n",
    "    SparkSession.builder.appName(\"preprocess\")\n",
    "    .config(\"spark.sql.repl.eagerEval.enabled\", True) \n",
    "    .config(\"spark.sql.parquet.cacheMetadata\", \"true\")\n",
    "    .config(\"spark.executor.memory\", \"4g\")\n",
    "    .getOrCreate()\n",
    ")"
   ]
  },
  {
   "cell_type": "code",
   "execution_count": 3,
   "metadata": {
    "ExecuteTime": {
     "end_time": "2022-08-07T13:22:06.003401Z",
     "start_time": "2022-08-07T13:22:02.447826Z"
    }
   },
   "outputs": [],
   "source": [
    "sdf = spark.read.parquet('../data/raw/yellow_taxi_data_2019/')"
   ]
  },
  {
   "cell_type": "markdown",
   "metadata": {},
   "source": [
    "# Preliminary data analysis"
   ]
  },
  {
   "cell_type": "code",
   "execution_count": 4,
   "metadata": {
    "ExecuteTime": {
     "end_time": "2022-08-07T13:22:06.009922Z",
     "start_time": "2022-08-07T13:22:06.005068Z"
    }
   },
   "outputs": [],
   "source": [
    "# print(f'total of {sdf.count():,} rows')"
   ]
  },
  {
   "cell_type": "code",
   "execution_count": 5,
   "metadata": {
    "ExecuteTime": {
     "end_time": "2022-08-07T13:22:06.017060Z",
     "start_time": "2022-08-07T13:22:06.014064Z"
    }
   },
   "outputs": [],
   "source": [
    "# sdf.printSchema()"
   ]
  },
  {
   "cell_type": "code",
   "execution_count": 6,
   "metadata": {
    "ExecuteTime": {
     "end_time": "2022-08-07T13:22:06.071806Z",
     "start_time": "2022-08-07T13:22:06.022836Z"
    }
   },
   "outputs": [],
   "source": [
    "# we are not interested in these attributes\n",
    "\n",
    "new_sdf = sdf.drop('VendorID', \n",
    "                   'store_and_fwd_flag', \n",
    "                   'fare_amount', \n",
    "                   'extra',\n",
    "                   'mta_tax', \n",
    "                   'tolls_amount', \n",
    "                   'improvement_surcharge',\n",
    "                   'total_amount',\n",
    "                   'congestion_surcharge',\n",
    "                   'airport_fee')"
   ]
  },
  {
   "cell_type": "code",
   "execution_count": 7,
   "metadata": {
    "ExecuteTime": {
     "end_time": "2022-08-07T13:22:06.076152Z",
     "start_time": "2022-08-07T13:22:06.074240Z"
    }
   },
   "outputs": [],
   "source": [
    "# Check the statistics for interested attributes\n",
    "# new_sdf.describe(['tip_amount', 'trip_distance', 'passenger_count', 'RatecodeID', 'payment_type']).show()"
   ]
  },
  {
   "cell_type": "code",
   "execution_count": 8,
   "metadata": {
    "ExecuteTime": {
     "end_time": "2022-08-07T13:22:06.080196Z",
     "start_time": "2022-08-07T13:22:06.078151Z"
    }
   },
   "outputs": [],
   "source": [
    "# Check null value\n",
    "#for column in new_sdf.columns:\n",
    "    #print(f'{column} has {new_sdf.where(F.col(column).isNull()).count()} null value(s)')"
   ]
  },
  {
   "cell_type": "code",
   "execution_count": 9,
   "metadata": {
    "ExecuteTime": {
     "end_time": "2022-08-07T13:22:06.450373Z",
     "start_time": "2022-08-07T13:22:06.082095Z"
    }
   },
   "outputs": [],
   "source": [
    "# Modify the sdf\n",
    "# line 18: Drop the rows with null passenger_count and RatecodeID\n",
    "# line 19~20: Remove data not in 2019\n",
    "# line 21: A reasonable tip amount between 0 and 1000\n",
    "# line 22: A reasonable trip distance is between 0 and 1000\n",
    "# line 23: RateCodeID should be one of the integer in the range of 1-6\n",
    "# line 24: Only trips paid by cash and credit card are of our interest\n",
    "# line 25: Passenger count must not be zero\n",
    "# line 26~27: Zone 264, 265 are unknown zone\n",
    "# line 28~30: Extract the pick-up month, day and hour\n",
    "# line 31: trip_distance in kilometres\n",
    "# line 32~33: duaration of trips\n",
    "# line 34: weekday and weekend \n",
    "# line 35: is the tips > 0\n",
    "\n",
    "\n",
    "new_sdf_mdf = new_sdf \\\n",
    "            .dropna(how='any') \\\n",
    "            .filter((F.year('tpep_pickup_datetime') == 2019) & \n",
    "                    (F.year('tpep_dropoff_datetime') == 2019) == True) \\\n",
    "            .filter((F.col('tip_amount') >= 0) & (F.col('tip_amount') < 1000)) \\\n",
    "            .filter((F.col('trip_distance') >= 0) & (F.col('trip_distance') < 1000)) \\\n",
    "            .filter(F.col('RatecodeID').isin(list(range(1, 7)))) \\\n",
    "            .filter(F.col('payment_type').isin([1, 2])) \\\n",
    "            .filter(F.col('passenger_count') != 0) \\\n",
    "            .filter((F.col('PULocationID').isin([264, 265]) == False) & \n",
    "                    (F.col('DOLocationID').isin([264, 265]) == False)) \\\n",
    "            .withColumn('PUMonth', F.month(F.col('tpep_pickup_datetime'))) \\\n",
    "            .withColumn('PUDayofweek', F.dayofweek(F.col('tpep_pickup_datetime'))) \\\n",
    "            .withColumn('PUDay', F.dayofmonth(F.col('tpep_pickup_datetime'))) \\\n",
    "            .withColumn('PUHour', F.hour(F.col('tpep_pickup_datetime'))) \\\n",
    "            .withColumn('trip_distance(km)', F.col('trip_distance') * 1.60934) \\\n",
    "            .withColumn('time_difference(s)', F.col('tpep_dropoff_datetime').cast('long') - \\\n",
    "                                                F.col('tpep_pickup_datetime').cast('long')) \\\n",
    "            .withColumn('is_weekend', F.dayofweek('tpep_pickup_datetime').isin([1, 7])) \\\n",
    "            .withColumn('tips_given', F.col('tip_amount') > 0)\n",
    "                     "
   ]
  },
  {
   "cell_type": "code",
   "execution_count": 10,
   "metadata": {
    "ExecuteTime": {
     "end_time": "2022-08-07T13:22:40.827484Z",
     "start_time": "2022-08-07T13:22:06.451987Z"
    }
   },
   "outputs": [
    {
     "name": "stdout",
     "output_type": "stream",
     "text": [
      "+------------+------------+------------------+------------------+----------------+\n",
      "|PULocationID|DOLocationID|max_tip_amount_usd|avg_tip_amount_usd|total_trip_count|\n",
      "+------------+------------+------------------+------------------+----------------+\n",
      "|         231|         261|              90.0|1.3922246071012807|           27488|\n",
      "|         170|         179|              18.0| 3.136674528301886|            2544|\n",
      "|          90|         142|             66.69|2.4137433862433864|           16632|\n",
      "|         114|         100|             26.29|1.7605119236883933|           12580|\n",
      "|         234|         144|             57.86|1.8175478515625012|           40960|\n",
      "|          87|          33|              13.8| 2.248647824318829|            4918|\n",
      "|         249|         225|              35.0|  3.45905325443787|            1859|\n",
      "|         116|         127|              12.0| 1.264627507163324|             698|\n",
      "|         246|         249|            211.69| 1.888683311934877|           36607|\n",
      "|          79|         116|              55.0| 4.364685577580315|            2926|\n",
      "|         148|         262|              33.0|3.3945136681500303|            6292|\n",
      "|         125|         255|              20.0|3.2091018619934286|            1826|\n",
      "|          48|         115|              18.0|3.2716666666666665|              24|\n",
      "|          90|         231|              25.0| 1.987598146588039|           35610|\n",
      "|         213|          61|               0.0|               0.0|              17|\n",
      "|         181|         238|             12.99| 6.180719999999999|             125|\n",
      "|         137|          37|             22.22|2.0107126696832576|             884|\n",
      "|          60|         235|               0.0|               0.0|              24|\n",
      "|         155|         124|               0.0|               0.0|              44|\n",
      "|         142|         144|              22.0| 3.164466510200398|            5539|\n",
      "+------------+------------+------------------+------------------+----------------+\n",
      "only showing top 20 rows\n",
      "\n"
     ]
    }
   ],
   "source": [
    "aggregated_result1 = new_sdf_mdf \\\n",
    "                    .groupBy(\"PULocationID\", \n",
    "                             \"DOLocationID\",\n",
    "                            ) \\\n",
    "                    .agg(\n",
    "                        F.max(\"tip_amount\").alias(\"max_tip_amount_usd\"),\n",
    "                        F.mean(\"tip_amount\").alias(\"avg_tip_amount_usd\"),\n",
    "                        F.count(\"PULocationID\").alias(\"total_trip_count\")\n",
    "                    )\n",
    "\n",
    "aggregated_result1.show()"
   ]
  },
  {
   "cell_type": "code",
   "execution_count": 11,
   "metadata": {
    "ExecuteTime": {
     "end_time": "2022-08-07T13:23:16.311138Z",
     "start_time": "2022-08-07T13:22:40.831454Z"
    }
   },
   "outputs": [
    {
     "name": "stdout",
     "output_type": "stream",
     "text": [
      "+-------+------+-----------+----------+------------------+------------------+----------------+\n",
      "|PUMonth|PUHour|PUDayofweek|is_weekend|max_tip_amount_usd|avg_tip_amount_usd|total_trip_count|\n",
      "+-------+------+-----------+----------+------------------+------------------+----------------+\n",
      "|      3|    13|          2|     false|              50.0|1.8932726883561646|            4672|\n",
      "|      8|     9|          4|     false|              90.0| 2.388770749856935|           27952|\n",
      "|      4|    14|          2|     false|              39.3| 2.203985611510791|            4865|\n",
      "|      4|    13|          2|     false|              25.0|1.7573219306466719|            4268|\n",
      "|      3|     4|          6|     false|              75.0|2.3637684704093482|           78910|\n",
      "|      3|    10|          3|     false|              45.0|2.5065788161550273|           28078|\n",
      "|      3|     7|          4|     false|             106.0|2.3678223647294816|           62375|\n",
      "|      3|    19|          4|     false|             111.1|2.1919813507250403|           55659|\n",
      "|      3|     9|          5|     false|              75.0|2.4819296263825783|           59312|\n",
      "|      3|     3|          2|     false|              51.1| 2.278024721328812|           49431|\n",
      "|      3|    20|          6|     false|             140.0|2.1877676339528653|           64407|\n",
      "|      3|    18|          4|     false|             150.0|2.0780961050784086|           46137|\n",
      "|      3|    12|          2|     false|             71.45|2.2851501091702904|            7328|\n",
      "|      3|    17|          7|      true|            101.26| 2.329462803565935|           13012|\n",
      "|      3|     6|          6|     false|              70.1|2.3109261379568404|           85592|\n",
      "|      3|     1|          3|     false|             100.0|2.1397660310121025|           47143|\n",
      "|      3|    19|          5|     false|            125.11| 2.203160553175275|           57414|\n",
      "|      3|    12|          6|     false|             114.4| 2.178371290545221|           23184|\n",
      "|      5|    22|          7|      true|             37.61|1.8974001236612104|           50137|\n",
      "|      2|     2|          4|     false|             200.0| 2.120191464648436|           53378|\n",
      "+-------+------+-----------+----------+------------------+------------------+----------------+\n",
      "only showing top 20 rows\n",
      "\n"
     ]
    }
   ],
   "source": [
    "aggregated_result2 = new_sdf_mdf \\\n",
    "                    .groupBy(\"PUMonth\",\n",
    "                             \"PUHour\",\n",
    "                             \"PUDayofweek\",\n",
    "                             \"is_weekend\"\n",
    "                            ) \\\n",
    "                    .agg(\n",
    "                        F.max(\"tip_amount\").alias(\"max_tip_amount_usd\"),\n",
    "                        F.mean(\"tip_amount\").alias(\"avg_tip_amount_usd\"),\n",
    "                        F.count(\"PULocationID\").alias(\"total_trip_count\")\n",
    "                    )\n",
    "\n",
    "aggregated_result2.show()"
   ]
  },
  {
   "cell_type": "code",
   "execution_count": 12,
   "metadata": {
    "ExecuteTime": {
     "end_time": "2022-08-07T13:23:44.215014Z",
     "start_time": "2022-08-07T13:23:16.314267Z"
    }
   },
   "outputs": [
    {
     "name": "stdout",
     "output_type": "stream",
     "text": [
      "+---------------+------------------+------------------+----------------+\n",
      "|passenger_count|max_tip_amount_usd|avg_tip_amount_usd|total_trip_count|\n",
      "+---------------+------------------+------------------+----------------+\n",
      "|            1.0|            787.25|2.1998592189411283|        57747469|\n",
      "|            2.0|             600.0| 2.204927920239129|        12504689|\n",
      "|            3.0|             338.0| 2.128770535330322|         3506396|\n",
      "|            4.0|             333.0|2.0072217370516823|         1664936|\n",
      "|            5.0|             444.8|2.2290614052397255|         3349763|\n",
      "|            6.0|             495.0|2.2148070469215657|         2013702|\n",
      "|            7.0|             23.82| 5.241421800947866|             211|\n",
      "|            8.0|              25.2| 6.363382352941177|             136|\n",
      "|            9.0|              30.4| 5.760357142857144|             112|\n",
      "+---------------+------------------+------------------+----------------+\n",
      "\n"
     ]
    }
   ],
   "source": [
    "aggregated_result3 = new_sdf_mdf \\\n",
    "                    .groupBy(\"passenger_count\") \\\n",
    "                    .agg(\n",
    "                        F.max(\"tip_amount\").alias(\"max_tip_amount_usd\"),\n",
    "                        F.mean(\"tip_amount\").alias(\"avg_tip_amount_usd\"),\n",
    "                        F.count(\"PULocationID\").alias(\"total_trip_count\")\n",
    "                    ) \\\n",
    "                    .orderBy(\"passenger_count\")\n",
    "\n",
    "aggregated_result3.show()"
   ]
  }
 ],
 "metadata": {
  "kernelspec": {
   "display_name": "Python 3",
   "language": "python",
   "name": "python3"
  },
  "language_info": {
   "codemirror_mode": {
    "name": "ipython",
    "version": 3
   },
   "file_extension": ".py",
   "mimetype": "text/x-python",
   "name": "python",
   "nbconvert_exporter": "python",
   "pygments_lexer": "ipython3",
   "version": "3.8.3"
  }
 },
 "nbformat": 4,
 "nbformat_minor": 4
}
