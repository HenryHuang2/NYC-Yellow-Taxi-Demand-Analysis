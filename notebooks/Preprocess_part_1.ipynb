{
 "cells": [
  {
   "cell_type": "markdown",
   "metadata": {},
   "source": [
    "# Preprocess the TLC Data"
   ]
  },
  {
   "cell_type": "code",
   "execution_count": 1,
   "metadata": {
    "ExecuteTime": {
     "end_time": "2022-08-16T14:33:02.659400Z",
     "start_time": "2022-08-16T14:33:01.118307Z"
    }
   },
   "outputs": [],
   "source": [
    "from pyspark.sql import SparkSession\n",
    "from pyspark.sql import functions as F\n",
    "import pandas as pd\n",
    "import seaborn as sns\n",
    "import matplotlib.pyplot as plt\n",
    "import math"
   ]
  },
  {
   "cell_type": "code",
   "execution_count": 2,
   "metadata": {
    "ExecuteTime": {
     "end_time": "2022-08-16T14:33:06.286688Z",
     "start_time": "2022-08-16T14:33:02.662927Z"
    }
   },
   "outputs": [],
   "source": [
    "spark = (\n",
    "    SparkSession.builder.appName(\"preprocess\")\n",
    "    .config(\"spark.sql.repl.eagerEval.enabled\", True)\n",
    "    .config(\"spark.sql.parquet.cacheMetadata\", \"true\")\n",
    "    .config(\"spark.sql.session.timeZone\", \"Etc/UTC\")\n",
    "    .config(\"spark.driver.memory\", \"3g\")\n",
    "    .config(\"spark.executor.memory\", \"4g\")\n",
    "    .getOrCreate()\n",
    ")"
   ]
  },
  {
   "cell_type": "code",
   "execution_count": 3,
   "metadata": {
    "ExecuteTime": {
     "end_time": "2022-08-16T14:33:09.902861Z",
     "start_time": "2022-08-16T14:33:06.289144Z"
    }
   },
   "outputs": [],
   "source": [
    "sdf_2019 = spark.read.parquet('../data/raw/yellow_taxi_data_2019/')"
   ]
  },
  {
   "cell_type": "markdown",
   "metadata": {},
   "source": [
    "# Preliminary data analysis"
   ]
  },
  {
   "cell_type": "code",
   "execution_count": 4,
   "metadata": {
    "ExecuteTime": {
     "end_time": "2022-08-16T14:33:11.330909Z",
     "start_time": "2022-08-16T14:33:09.904552Z"
    }
   },
   "outputs": [
    {
     "name": "stdout",
     "output_type": "stream",
     "text": [
      "total of 84,598,444 rows\n"
     ]
    }
   ],
   "source": [
    "print(f'total of {sdf_2019.count():,} rows')"
   ]
  },
  {
   "cell_type": "code",
   "execution_count": 5,
   "metadata": {
    "ExecuteTime": {
     "end_time": "2022-08-16T14:33:11.345094Z",
     "start_time": "2022-08-16T14:33:11.332844Z"
    }
   },
   "outputs": [
    {
     "name": "stdout",
     "output_type": "stream",
     "text": [
      "root\n",
      " |-- VendorID: long (nullable = true)\n",
      " |-- tpep_pickup_datetime: timestamp (nullable = true)\n",
      " |-- tpep_dropoff_datetime: timestamp (nullable = true)\n",
      " |-- passenger_count: double (nullable = true)\n",
      " |-- trip_distance: double (nullable = true)\n",
      " |-- RatecodeID: double (nullable = true)\n",
      " |-- store_and_fwd_flag: string (nullable = true)\n",
      " |-- PULocationID: long (nullable = true)\n",
      " |-- DOLocationID: long (nullable = true)\n",
      " |-- payment_type: long (nullable = true)\n",
      " |-- fare_amount: double (nullable = true)\n",
      " |-- extra: double (nullable = true)\n",
      " |-- mta_tax: double (nullable = true)\n",
      " |-- tip_amount: double (nullable = true)\n",
      " |-- tolls_amount: double (nullable = true)\n",
      " |-- improvement_surcharge: double (nullable = true)\n",
      " |-- total_amount: double (nullable = true)\n",
      " |-- congestion_surcharge: double (nullable = true)\n",
      " |-- airport_fee: integer (nullable = true)\n",
      "\n"
     ]
    }
   ],
   "source": [
    "sdf_2019.printSchema()"
   ]
  },
  {
   "cell_type": "code",
   "execution_count": 6,
   "metadata": {
    "ExecuteTime": {
     "end_time": "2022-08-16T14:33:15.072802Z",
     "start_time": "2022-08-16T14:33:11.346886Z"
    }
   },
   "outputs": [
    {
     "name": "stdout",
     "output_type": "stream",
     "text": [
      "+-------+------------------+------------------+------------------+------------------+\n",
      "|summary|        tip_amount|     trip_distance|   passenger_count|       fare_amount|\n",
      "+-------+------------------+------------------+------------------+------------------+\n",
      "|  count|          84598444|          84598444|          84154061|          84598444|\n",
      "|   mean| 2.190078737505638|3.0183506184817515|1.5626654190817957|13.412639732835764|\n",
      "| stddev|15.638996154306168| 8.093902044464816|1.2079081585219809|174.17668755385404|\n",
      "|    min|            -221.0|         -37264.53|               0.0|           -1856.0|\n",
      "|    max|         141492.02|          45977.22|               9.0|          943274.8|\n",
      "+-------+------------------+------------------+------------------+------------------+\n",
      "\n"
     ]
    }
   ],
   "source": [
    "# Check the statistics for numeric attributes\n",
    "sdf_2019.describe(['tip_amount', 'trip_distance', 'passenger_count', 'fare_amount']).show()"
   ]
  },
  {
   "cell_type": "code",
   "execution_count": 7,
   "metadata": {
    "ExecuteTime": {
     "end_time": "2022-08-16T14:33:36.467970Z",
     "start_time": "2022-08-16T14:33:15.076987Z"
    },
    "scrolled": true
   },
   "outputs": [
    {
     "data": {
      "image/png": "[encoded data removed]",
      "text/plain": [
       "<Figure size 432x288 with 1 Axes>"
      ]
     },
     "metadata": {
      "needs_background": "light"
     },
     "output_type": "display_data"
    }
   ],
   "source": [
    "# It seems like trip_distance approximately follow a log-normal distribution\n",
    "log_trip_distance = sdf_2019.filter(F.col('trip_distance') > 0).select(F.log(F.col('trip_distance')))\n",
    "df = log_trip_distance.sample(0.05, seed=0).toPandas()\n",
    "hist = sns.histplot(data = df, stat = 'probability')\n",
    "hist.set(xlabel='log(trip_distance)', ylabel='probability')\n",
    "plt.show()"
   ]
  },
  {
   "cell_type": "code",
   "execution_count": 8,
   "metadata": {
    "ExecuteTime": {
     "end_time": "2022-08-16T14:33:38.298607Z",
     "start_time": "2022-08-16T14:33:36.472704Z"
    }
   },
   "outputs": [
    {
     "data": {
      "text/plain": [
       "(0.10780246363537173, 31.786485869296914)"
      ]
     },
     "execution_count": 8,
     "metadata": {},
     "output_type": "execute_result"
    }
   ],
   "source": [
    "# we will treat data that is 3 std away from mean as outlier\n",
    "stat = log_trip_distance.select(F.mean('ln(trip_distance)').alias('mean'), \n",
    "                                F.stddev('ln(trip_distance)').alias('std')).collect()\n",
    "\n",
    "td_lower, td_upper = math.exp(stat[0]['mean'] - 3*stat[0]['std']), math.exp(stat[0]['mean'] + 3*stat[0]['std'])\n",
    "td_lower, td_upper"
   ]
  },
  {
   "cell_type": "code",
   "execution_count": 9,
   "metadata": {
    "ExecuteTime": {
     "end_time": "2022-08-16T14:33:52.526672Z",
     "start_time": "2022-08-16T14:33:38.301918Z"
    }
   },
   "outputs": [
    {
     "data": {
      "image/png": "[encoded data removed]",
      "text/plain": [
       "<Figure size 432x288 with 1 Axes>"
      ]
     },
     "metadata": {
      "needs_background": "light"
     },
     "output_type": "display_data"
    }
   ],
   "source": [
    "# It seems like trip_amount also approximately follow a log-normal distribution\n",
    "log_tip_amount = sdf_2019.filter(F.col('tip_amount') > 0).select(F.log(F.col('tip_amount')))\n",
    "df = log_tip_amount.sample(0.05, seed=0).toPandas()\n",
    "hist = sns.histplot(data = df, stat = 'probability')\n",
    "hist.set(xlabel='log(tip_amount)', ylabel='probability')\n",
    "plt.show()"
   ]
  },
  {
   "cell_type": "code",
   "execution_count": 10,
   "metadata": {
    "ExecuteTime": {
     "end_time": "2022-08-16T14:33:53.717542Z",
     "start_time": "2022-08-16T14:33:52.528414Z"
    }
   },
   "outputs": [
    {
     "data": {
      "text/plain": [
       "(0.345501105744151, 18.46019783041283)"
      ]
     },
     "execution_count": 10,
     "metadata": {},
     "output_type": "execute_result"
    }
   ],
   "source": [
    "# we will treat data that is 3 std away from mean as outlier\n",
    "stat = log_tip_amount.select(F.mean('ln(tip_amount)').alias('mean'), \n",
    "                                F.stddev('ln(tip_amount)').alias('std')).collect()\n",
    "\n",
    "ta_lower, ta_upper = math.exp(stat[0]['mean'] - 3*stat[0]['std']), math.exp(stat[0]['mean'] + 3*stat[0]['std'])\n",
    "ta_lower, ta_upper"
   ]
  },
  {
   "cell_type": "code",
   "execution_count": 11,
   "metadata": {
    "ExecuteTime": {
     "end_time": "2022-08-16T14:33:59.137918Z",
     "start_time": "2022-08-16T14:33:53.719258Z"
    }
   },
   "outputs": [
    {
     "name": "stdout",
     "output_type": "stream",
     "text": [
      "VendorID has 0 null value(s)\n",
      "tpep_pickup_datetime has 0 null value(s)\n",
      "tpep_dropoff_datetime has 0 null value(s)\n",
      "passenger_count has 444383 null value(s)\n",
      "trip_distance has 0 null value(s)\n",
      "RatecodeID has 444383 null value(s)\n",
      "store_and_fwd_flag has 444383 null value(s)\n",
      "PULocationID has 0 null value(s)\n",
      "DOLocationID has 0 null value(s)\n",
      "payment_type has 0 null value(s)\n",
      "fare_amount has 0 null value(s)\n",
      "extra has 0 null value(s)\n",
      "mta_tax has 0 null value(s)\n",
      "tip_amount has 0 null value(s)\n",
      "tolls_amount has 0 null value(s)\n",
      "improvement_surcharge has 0 null value(s)\n",
      "total_amount has 0 null value(s)\n",
      "congestion_surcharge has 5300601 null value(s)\n",
      "airport_fee has 84598444 null value(s)\n"
     ]
    }
   ],
   "source": [
    "# Check null value\n",
    "for column in sdf_2019.columns:\n",
    "    print(f'{column} has {sdf_2019.where(F.col(column).isNull()).count()} null value(s)')"
   ]
  },
  {
   "cell_type": "code",
   "execution_count": 12,
   "metadata": {
    "ExecuteTime": {
     "end_time": "2022-08-16T14:33:59.399239Z",
     "start_time": "2022-08-16T14:33:59.140008Z"
    }
   },
   "outputs": [],
   "source": [
    "# line 23~31: Drop the attributes that we are not interested in\n",
    "# line 32: Drop the rows with null passenger_count and RatecodeID\n",
    "# line 33~34: Remove data not in 2019\n",
    "# line 35: A reasonable tip amount is between 0.3455 and 18.4602\n",
    "# line 36: A reasonable trip distance is between 0.1078 and 31.7865 miles\n",
    "# line 37: A reasonable fare amount is between $2.5(initial charge) and $1000\n",
    "# line 38: RateCodeID should be one of the integer in the range of 1-6\n",
    "# line 39: Only trips paid by credit card or cash are included\n",
    "# line 40: Passenger count must not be zero\n",
    "# line 41~42: Zone 264, 265 are unknown zone\n",
    "# line 43~46: Extract the pick-up month, day and hour\n",
    "# line 47: Extract the drop-off hour\n",
    "# line 48: trip_distance in kilometres\n",
    "# line 49~50: duaration of trips\n",
    "# line 51: trip distance must be greater than 500m\n",
    "# line 52: trip duration must be greater than 3 min\n",
    "\n",
    "def transform(sdf, year):\n",
    "    \"\"\"\n",
    "    return a modified sdf\n",
    "    \"\"\"\n",
    "    sdf_mdf = sdf \\\n",
    "            .drop('VendorID', \n",
    "                  'store_and_fwd_flag', \n",
    "                  'extra',\n",
    "                  'mta_tax',\n",
    "                  'improvement_surcharge',\n",
    "                  'tolls_amount', \n",
    "                  'total_amount',\n",
    "                  'congestion_surcharge',\n",
    "                  'airport_fee') \\\n",
    "            .dropna(how='any') \\\n",
    "            .filter((F.year('tpep_pickup_datetime') == year) & \n",
    "                    (F.year('tpep_dropoff_datetime') == year) == True) \\\n",
    "            .filter((F.col('tip_amount') >= ta_lower) & (F.col('tip_amount') < ta_upper)) \\\n",
    "            .filter((F.col('trip_distance') > td_lower) & (F.col('trip_distance') < td_upper)) \\\n",
    "            .filter((F.col('fare_amount') > 2.5) & (F.col('fare_amount') < 1000)) \\\n",
    "            .filter(F.col('RatecodeID').isin(list(range(1, 7)))) \\\n",
    "            .filter(F.col('payment_type').isin(1, 2)) \\\n",
    "            .filter(F.col('passenger_count') != 0) \\\n",
    "            .filter((F.col('PULocationID').isin([264, 265]) == False) & \n",
    "                    (F.col('DOLocationID').isin([264, 265]) == False)) \\\n",
    "            .withColumn('PUMonth', F.month(F.col('tpep_pickup_datetime'))) \\\n",
    "            .withColumn('PUDay', F.dayofmonth(F.col('tpep_pickup_datetime'))) \\\n",
    "            .withColumn('PUDayofweek', (F.dayofweek(F.col('tpep_pickup_datetime'))+5)%7+1) \\\n",
    "            .withColumn('PUHour', F.hour(F.col('tpep_pickup_datetime'))) \\\n",
    "            .withColumn('DOHour', F.hour(F.col('tpep_dropoff_datetime'))) \\\n",
    "            .withColumn('trip_distance(km)', F.col('trip_distance') * 1.60934) \\\n",
    "            .withColumn('time_difference(s)', F.col('tpep_dropoff_datetime').cast('long') - \\\n",
    "                                                F.col('tpep_pickup_datetime').cast('long')) \\\n",
    "            .filter(F.col('trip_distance(km)') > 0.5) \\\n",
    "            .filter(F.col('time_difference(s)') / 60 > 3) \\\n",
    "    \n",
    "    return sdf_mdf\n",
    "\n",
    "\n",
    "new_sdf_2019 = transform(sdf_2019, 2019)"
   ]
  },
  {
   "cell_type": "code",
   "execution_count": 13,
   "metadata": {
    "ExecuteTime": {
     "end_time": "2022-08-16T14:34:33.720621Z",
     "start_time": "2022-08-16T14:33:59.401650Z"
    }
   },
   "outputs": [
    {
     "name": "stdout",
     "output_type": "stream",
     "text": [
      "+------------+------------+-------+-----+-----------+------+------+----------+\n",
      "|PULocationID|DOLocationID|PUMonth|PUDay|PUDayofweek|PUHour|DOHour|trip_count|\n",
      "+------------+------------+-------+-----+-----------+------+------+----------+\n",
      "|         132|         249|      3|    1|          5|     0|     1|         1|\n",
      "|          68|         234|      3|    1|          5|     0|     0|         4|\n",
      "|         148|          87|      3|    1|          5|     0|     0|         5|\n",
      "|         132|         234|      3|    1|          5|     0|     0|         2|\n",
      "|         142|         236|      3|    1|          5|     0|     0|         2|\n",
      "|          48|         181|      3|    1|          5|     0|     0|         1|\n",
      "|         249|          52|      3|    1|          5|     0|     1|         1|\n",
      "|         162|         230|      3|    1|          5|     0|     0|         2|\n",
      "|          88|          18|      3|    1|          5|     0|     0|         1|\n",
      "|         249|          61|      3|    1|          5|     0|     0|         1|\n",
      "|         107|         141|      3|    1|          5|     1|     1|         2|\n",
      "|         166|          48|      3|    1|          5|     1|     2|         1|\n",
      "|         211|         113|      3|    1|          5|     1|     1|         3|\n",
      "|         148|         113|      3|    1|          5|     1|     1|         3|\n",
      "|         113|          87|      3|    1|          5|     1|     1|         2|\n",
      "|         132|          25|      3|    1|          5|     1|     2|         1|\n",
      "|         249|           7|      3|    1|          5|     1|     2|         1|\n",
      "|          79|         262|      3|    1|          5|     1|     1|         1|\n",
      "|         107|          79|      3|    1|          5|     2|     2|         3|\n",
      "|         158|          90|      3|    1|          5|     1|     2|         1|\n",
      "+------------+------------+-------+-----+-----------+------+------+----------+\n",
      "only showing top 20 rows\n",
      "\n"
     ]
    }
   ],
   "source": [
    "aggregated_result = new_sdf_2019 \\\n",
    "                     .groupBy(\"PULocationID\",\n",
    "                              \"DOLocationID\",\n",
    "                              \"PUMonth\",\n",
    "                              \"PUDay\",\n",
    "                              \"PUDayofweek\",\n",
    "                              \"PUHour\",\n",
    "                              \"DOHour\"\n",
    "                             ) \\\n",
    "                     .agg(\n",
    "                       F.count('PULocationID').alias(\"trip_count\"),\n",
    "                     )\n",
    "                    \n",
    "\n",
    "aggregated_result.show()"
   ]
  },
  {
   "cell_type": "code",
   "execution_count": 14,
   "metadata": {
    "ExecuteTime": {
     "end_time": "2022-08-16T14:35:16.020252Z",
     "start_time": "2022-08-16T14:34:33.725854Z"
    }
   },
   "outputs": [],
   "source": [
    "# write out the aggregated results\n",
    "aggregated_result.write.mode('overwrite').parquet('../data/curated/aggregated_result_2019')"
   ]
  },
  {
   "cell_type": "markdown",
   "metadata": {},
   "source": [
    "# Subsampling"
   ]
  },
  {
   "cell_type": "code",
   "execution_count": 15,
   "metadata": {
    "ExecuteTime": {
     "end_time": "2022-08-16T14:35:16.401029Z",
     "start_time": "2022-08-16T14:35:16.039777Z"
    }
   },
   "outputs": [],
   "source": [
    "# Also the same procedure will be applied to 2020 data\n",
    "sdf_2020 = spark.read.parquet('../data/raw/yellow_taxi_data_2020/')\n",
    "new_sdf_2020 = transform(sdf_2020, 2020)"
   ]
  },
  {
   "cell_type": "code",
   "execution_count": 16,
   "metadata": {
    "ExecuteTime": {
     "end_time": "2022-08-16T14:35:29.992738Z",
     "start_time": "2022-08-16T14:35:16.403467Z"
    }
   },
   "outputs": [],
   "source": [
    "# Due to lockdown of NYC in March, 2020, the records has declined substantially\n",
    "# I will use data from January to February to validate model predictions\n",
    "reduced_sdf = new_sdf_2020.filter(F.col(\"PUMonth\").isin([1, 2]))\n",
    "aggregated_result = reduced_sdf \\\n",
    "                     .groupBy(\"PULocationID\",\n",
    "                              \"DOLocationID\",\n",
    "                              \"PUMonth\",\n",
    "                              \"PUDay\",\n",
    "                              \"PUDayofweek\",\n",
    "                              \"PUHour\"\n",
    "                             ) \\\n",
    "                     .agg(\n",
    "                       F.count('PULocationID').alias(\"trip_count\"),\n",
    "                     )  \n",
    "reduced_sdf.write.mode('overwrite').parquet(\"../data/curated/aggregated_result_2020\")"
   ]
  }
 ],
 "metadata": {
  "kernelspec": {
   "display_name": "Python 3",
   "language": "python",
   "name": "python3"
  },
  "language_info": {
   "codemirror_mode": {
    "name": "ipython",
    "version": 3
   },
   "file_extension": ".py",
   "mimetype": "text/x-python",
   "name": "python",
   "nbconvert_exporter": "python",
   "pygments_lexer": "ipython3",
   "version": "3.8.3"
  }
 },
 "nbformat": 4,
 "nbformat_minor": 4
}
