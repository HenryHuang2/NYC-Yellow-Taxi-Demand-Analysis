{
 "cells": [
  {
   "cell_type": "markdown",
   "metadata": {},
   "source": [
    "# Preprocess the TLC Data"
   ]
  },
  {
   "cell_type": "code",
   "execution_count": 1,
   "metadata": {
    "ExecuteTime": {
     "end_time": "2022-08-10T11:34:43.712671Z",
     "start_time": "2022-08-10T11:34:42.302723Z"
    }
   },
   "outputs": [],
   "source": [
    "from pyspark.sql import SparkSession\n",
    "from pyspark.sql import functions as F\n",
    "import pandas as pd\n",
    "import seaborn as sns\n",
    "import math"
   ]
  },
  {
   "cell_type": "code",
   "execution_count": 2,
   "metadata": {
    "ExecuteTime": {
     "end_time": "2022-08-10T11:34:47.164551Z",
     "start_time": "2022-08-10T11:34:43.715833Z"
    }
   },
   "outputs": [],
   "source": [
    "spark = (\n",
    "    SparkSession.builder.appName(\"preprocess\")\n",
    "    .config(\"spark.sql.repl.eagerEval.enabled\", True)\n",
    "    .config(\"spark.sql.parquet.cacheMetadata\", \"true\")\n",
    "    .config(\"spark.sql.session.timeZone\", \"Etc/UTC\")\n",
    "    .config(\"spark.driver.memory\", \"3g\")\n",
    "    .config(\"spark.executor.memory\", \"4g\")\n",
    "    .getOrCreate()\n",
    ")"
   ]
  },
  {
   "cell_type": "code",
   "execution_count": 3,
   "metadata": {
    "ExecuteTime": {
     "end_time": "2022-08-10T11:34:50.652702Z",
     "start_time": "2022-08-10T11:34:47.167297Z"
    }
   },
   "outputs": [],
   "source": [
    "sdf_2019 = spark.read.parquet('../data/raw/yellow_taxi_data_2019/')"
   ]
  },
  {
   "cell_type": "markdown",
   "metadata": {},
   "source": [
    "# Preliminary data analysis"
   ]
  },
  {
   "cell_type": "code",
   "execution_count": 4,
   "metadata": {
    "ExecuteTime": {
     "end_time": "2022-08-10T11:34:52.037229Z",
     "start_time": "2022-08-10T11:34:50.654808Z"
    }
   },
   "outputs": [
    {
     "name": "stdout",
     "output_type": "stream",
     "text": [
      "total of 84,598,444 rows\n"
     ]
    }
   ],
   "source": [
    "print(f'total of {sdf_2019.count():,} rows')"
   ]
  },
  {
   "cell_type": "code",
   "execution_count": 5,
   "metadata": {
    "ExecuteTime": {
     "end_time": "2022-08-10T11:34:52.053648Z",
     "start_time": "2022-08-10T11:34:52.039554Z"
    }
   },
   "outputs": [
    {
     "name": "stdout",
     "output_type": "stream",
     "text": [
      "root\n",
      " |-- VendorID: long (nullable = true)\n",
      " |-- tpep_pickup_datetime: timestamp (nullable = true)\n",
      " |-- tpep_dropoff_datetime: timestamp (nullable = true)\n",
      " |-- passenger_count: double (nullable = true)\n",
      " |-- trip_distance: double (nullable = true)\n",
      " |-- RatecodeID: double (nullable = true)\n",
      " |-- store_and_fwd_flag: string (nullable = true)\n",
      " |-- PULocationID: long (nullable = true)\n",
      " |-- DOLocationID: long (nullable = true)\n",
      " |-- payment_type: long (nullable = true)\n",
      " |-- fare_amount: double (nullable = true)\n",
      " |-- extra: double (nullable = true)\n",
      " |-- mta_tax: double (nullable = true)\n",
      " |-- tip_amount: double (nullable = true)\n",
      " |-- tolls_amount: double (nullable = true)\n",
      " |-- improvement_surcharge: double (nullable = true)\n",
      " |-- total_amount: double (nullable = true)\n",
      " |-- congestion_surcharge: double (nullable = true)\n",
      " |-- airport_fee: integer (nullable = true)\n",
      "\n"
     ]
    }
   ],
   "source": [
    "sdf_2019.printSchema()"
   ]
  },
  {
   "cell_type": "code",
   "execution_count": 6,
   "metadata": {
    "ExecuteTime": {
     "end_time": "2022-08-10T11:34:55.752802Z",
     "start_time": "2022-08-10T11:34:52.055416Z"
    }
   },
   "outputs": [
    {
     "name": "stdout",
     "output_type": "stream",
     "text": [
      "+-------+------------------+------------------+------------------+------------------+\n",
      "|summary|        tip_amount|     trip_distance|   passenger_count|       fare_amount|\n",
      "+-------+------------------+------------------+------------------+------------------+\n",
      "|  count|          84598444|          84598444|          84154061|          84598444|\n",
      "|   mean| 2.190078737505638|3.0183506184817515|1.5626654190817957|13.412639732835764|\n",
      "| stddev|15.638996154306168| 8.093902044464816|1.2079081585219809|174.17668755385404|\n",
      "|    min|            -221.0|         -37264.53|               0.0|           -1856.0|\n",
      "|    max|         141492.02|          45977.22|               9.0|          943274.8|\n",
      "+-------+------------------+------------------+------------------+------------------+\n",
      "\n"
     ]
    }
   ],
   "source": [
    "# Check the statistics for interested attributes\n",
    "sdf_2019.describe(['tip_amount', 'trip_distance', 'passenger_count', 'fare_amount']).show()"
   ]
  },
  {
   "cell_type": "code",
   "execution_count": 7,
   "metadata": {
    "ExecuteTime": {
     "end_time": "2022-08-10T11:35:16.024701Z",
     "start_time": "2022-08-10T11:34:55.756352Z"
    }
   },
   "outputs": [
    {
     "data": {
      "text/plain": [
       "<AxesSubplot:ylabel='Count'>"
      ]
     },
     "execution_count": 7,
     "metadata": {},
     "output_type": "execute_result"
    },
    {
     "data": {
      "image/png": "[encoded data removed]",
      "text/plain": [
       "<Figure size 432x288 with 1 Axes>"
      ]
     },
     "metadata": {
      "needs_background": "light"
     },
     "output_type": "display_data"
    }
   ],
   "source": [
    "# It seems like trip_distance approximately follow a log-normal distribution\n",
    "log_trip_distance = sdf_2019.filter(F.col('trip_distance') > 0).select(F.log(F.col('trip_distance')))\n",
    "df = log_trip_distance.sample(0.05, seed=0).toPandas()\n",
    "sns.histplot(data=df)"
   ]
  },
  {
   "cell_type": "code",
   "execution_count": 8,
   "metadata": {
    "ExecuteTime": {
     "end_time": "2022-08-10T11:35:17.785310Z",
     "start_time": "2022-08-10T11:35:16.027137Z"
    }
   },
   "outputs": [
    {
     "data": {
      "text/plain": [
       "(0.10780246363537173, 31.786485869296914)"
      ]
     },
     "execution_count": 8,
     "metadata": {},
     "output_type": "execute_result"
    }
   ],
   "source": [
    "# we will treat data that is 3 std away from mean as outlier\n",
    "stat = log_trip_distance.select(F.mean('ln(trip_distance)').alias('mean'), \n",
    "                                F.stddev('ln(trip_distance)').alias('std')).collect()\n",
    "\n",
    "lower, upper = math.exp(stat[0]['mean'] - 3*stat[0]['std']), math.exp(stat[0]['mean'] + 3*stat[0]['std'])\n",
    "lower, upper"
   ]
  },
  {
   "cell_type": "code",
   "execution_count": 9,
   "metadata": {
    "ExecuteTime": {
     "end_time": "2022-08-10T11:35:23.626946Z",
     "start_time": "2022-08-10T11:35:17.787595Z"
    }
   },
   "outputs": [
    {
     "name": "stdout",
     "output_type": "stream",
     "text": [
      "VendorID has 0 null value(s)\n",
      "tpep_pickup_datetime has 0 null value(s)\n",
      "tpep_dropoff_datetime has 0 null value(s)\n",
      "passenger_count has 444383 null value(s)\n",
      "trip_distance has 0 null value(s)\n",
      "RatecodeID has 444383 null value(s)\n",
      "store_and_fwd_flag has 444383 null value(s)\n",
      "PULocationID has 0 null value(s)\n",
      "DOLocationID has 0 null value(s)\n",
      "payment_type has 0 null value(s)\n",
      "fare_amount has 0 null value(s)\n",
      "extra has 0 null value(s)\n",
      "mta_tax has 0 null value(s)\n",
      "tip_amount has 0 null value(s)\n",
      "tolls_amount has 0 null value(s)\n",
      "improvement_surcharge has 0 null value(s)\n",
      "total_amount has 0 null value(s)\n",
      "congestion_surcharge has 5300601 null value(s)\n",
      "airport_fee has 84598444 null value(s)\n"
     ]
    }
   ],
   "source": [
    "# Check null value\n",
    "for column in sdf_2019.columns:\n",
    "    print(f'{column} has {sdf_2019.where(F.col(column).isNull()).count()} null value(s)')"
   ]
  },
  {
   "cell_type": "code",
   "execution_count": 10,
   "metadata": {
    "ExecuteTime": {
     "end_time": "2022-08-10T11:35:23.907047Z",
     "start_time": "2022-08-10T11:35:23.628936Z"
    }
   },
   "outputs": [],
   "source": [
    "# Modify the sdf\n",
    "# line 23~31: Drop the attributes that we are not interested in\n",
    "# line 32: Drop the rows with null passenger_count and RatecodeID\n",
    "# line 33~34: Remove data not in 2019\n",
    "# line 35: A reasonable tip amount between 0 and 250 which is at most 50% of fare amount (normally 15% ~ 20%)\n",
    "# line 36: A reasonable trip distance is between 0.1078 and 31.7865 miles\n",
    "# line 37: A fare amount is between $2.5(initial charge) and $500\n",
    "# line 38: RateCodeID should be one of the integer in the range of 1-6\n",
    "# line 39: Only trips paid by credit card are of our interest\n",
    "# line 40: Passenger count must not be zero\n",
    "# line 41~42: Zone 264, 265 are unknown zone\n",
    "# line 43~46: Extract the pick-up month, day and hour\n",
    "# line 47: trip_distance in kilometres\n",
    "# line 48~49: duaration of trips\n",
    "# line 50: weekday and weekend \n",
    "# line 51: is the tips > 0\n",
    "\n",
    "def transform(sdf, year):\n",
    "    \"\"\"\n",
    "    return a modified sdf\n",
    "    \"\"\"\n",
    "    sdf_mdf = sdf \\\n",
    "            .drop('VendorID', \n",
    "                  'store_and_fwd_flag', \n",
    "                  'extra',\n",
    "                  'mta_tax',\n",
    "                  'improvement_surcharge',\n",
    "                  'tolls_amount', \n",
    "                  'total_amount',\n",
    "                  'congestion_surcharge',\n",
    "                  'airport_fee') \\\n",
    "            .dropna(how='any') \\\n",
    "            .filter((F.year('tpep_pickup_datetime') == year) & \n",
    "                    (F.year('tpep_dropoff_datetime') == year) == True) \\\n",
    "            .filter((F.col('tip_amount') >= 0) & (F.col('tip_amount') < 250)) \\\n",
    "            .filter((F.col('trip_distance') > lower) & (F.col('trip_distance') < upper)) \\\n",
    "            .filter((F.col('fare_amount') > 2.5) & (F.col('fare_amount') < 500)) \\\n",
    "            .filter(F.col('RatecodeID').isin(list(range(1, 7)))) \\\n",
    "            .filter(F.col('payment_type') == 1) \\\n",
    "            .filter(F.col('passenger_count') != 0) \\\n",
    "            .filter((F.col('PULocationID').isin([264, 265]) == False) & \n",
    "                    (F.col('DOLocationID').isin([264, 265]) == False)) \\\n",
    "            .withColumn('PUMonth', F.month(F.col('tpep_pickup_datetime'))) \\\n",
    "            .withColumn('PUDay', F.dayofmonth(F.col('tpep_pickup_datetime'))) \\\n",
    "            .withColumn('PUDayofweek', (F.dayofweek(F.col('tpep_pickup_datetime'))+5)%7+1) \\\n",
    "            .withColumn('PUHour', F.hour(F.col('tpep_pickup_datetime'))) \\\n",
    "            .withColumn('trip_distance(km)', F.col('trip_distance') * 1.60934) \\\n",
    "            .withColumn('time_difference(s)', F.col('tpep_dropoff_datetime').cast('long') - \\\n",
    "                                                F.col('tpep_pickup_datetime').cast('long')) \\\n",
    "            .withColumn('is_weekend', F.dayofweek('tpep_pickup_datetime').isin([1, 7])) \\\n",
    "            .withColumn('tips_given', F.col('tip_amount') > 0)\n",
    "    return sdf_mdf\n",
    "\n",
    "\n",
    "new_sdf_2019 = transform(sdf_2019, 2019)"
   ]
  },
  {
   "cell_type": "code",
   "execution_count": 11,
   "metadata": {
    "ExecuteTime": {
     "end_time": "2022-08-10T11:35:39.598724Z",
     "start_time": "2022-08-10T11:35:23.909659Z"
    }
   },
   "outputs": [
    {
     "name": "stdout",
     "output_type": "stream",
     "text": [
      "+------------+-------+-----+------------------+------------------+----------------+\n",
      "|PULocationID|PUMonth|PUDay|max_tip_amount_usd|avg_tip_amount_usd|total_trip_count|\n",
      "+------------+-------+-----+------------------+------------------+----------------+\n",
      "|         249|      2|   28|             20.15|  2.65737012113055|            3715|\n",
      "|         106|      3|    2|              4.45|1.8336363636363635|              22|\n",
      "|         191|      3|    2|               0.0|               0.0|              13|\n",
      "|         224|      3|    3|             12.21| 2.557177419354841|             372|\n",
      "|          12|      3|    3|              6.45|3.4816666666666665|              30|\n",
      "|         223|      3|    3|             15.26| 5.234727272727272|              55|\n",
      "|          54|      3|    4|             13.76|             4.834|               5|\n",
      "|         126|      3|    5|               0.0|               0.0|               4|\n",
      "|         200|      3|    5|              10.0|               1.0|              10|\n",
      "|          12|      3|    6|               7.7|3.5397500000000006|              40|\n",
      "|         125|      3|    6|              30.0|2.8628335949764536|            1274|\n",
      "|         228|      3|    7|              6.16|0.9376190476190477|              21|\n",
      "|          62|      3|    7|               5.0|0.2413793103448276|              29|\n",
      "|         249|      3|    8|              35.0|2.6978726415094187|            4240|\n",
      "|         107|      3|    8|             21.56|2.5896109399075384|            5192|\n",
      "|          81|      3|    8|              3.46|             0.346|              10|\n",
      "|         242|      3|    8|              4.36|0.2906666666666667|              15|\n",
      "|         160|      3|    9|             14.64| 5.626666666666667|               9|\n",
      "|          87|      3|   13|              25.0|3.8272047738693513|            1592|\n",
      "|         208|      3|   13|               0.0|               0.0|              10|\n",
      "+------------+-------+-----+------------------+------------------+----------------+\n",
      "only showing top 20 rows\n",
      "\n"
     ]
    }
   ],
   "source": [
    "aggregated_result1 = new_sdf_2019 \\\n",
    "                     .groupBy(\"PULocationID\", \n",
    "                              \"PUMonth\", \n",
    "                              \"PUDay\"\n",
    "                            ) \\\n",
    "                     .agg(\n",
    "                       F.max(\"tip_amount\").alias(\"max_tip_amount_usd\"),\n",
    "                       F.mean(\"tip_amount\").alias(\"avg_tip_amount_usd\"),\n",
    "                       F.count(\"PULocationID\").alias(\"total_trip_count\")\n",
    "                   )\n",
    "\n",
    "aggregated_result1.show()"
   ]
  },
  {
   "cell_type": "code",
   "execution_count": 12,
   "metadata": {
    "ExecuteTime": {
     "end_time": "2022-08-10T11:35:51.257045Z",
     "start_time": "2022-08-10T11:35:39.601830Z"
    }
   },
   "outputs": [
    {
     "name": "stdout",
     "output_type": "stream",
     "text": [
      "+------------+---------------+------------------+-------------------+----------------+\n",
      "|PULocationID|passenger_count|max_tip_amount_usd| avg_tip_amount_usd|total_trip_count|\n",
      "+------------+---------------+------------------+-------------------+----------------+\n",
      "|          17|            1.0|              30.0| 1.2023368765331155|            6115|\n",
      "|          27|            1.0|             15.59|  2.877407407407407|              27|\n",
      "|          77|            1.0|              15.0|0.15983900928792572|            1615|\n",
      "|         164|            1.0|             150.0| 2.7505833149564425|          984031|\n",
      "|          53|            1.0|             16.44|              0.875|             498|\n",
      "|         238|            1.0|             220.0| 2.4332175975945103|          874665|\n",
      "|         146|            1.0|              75.0| 2.6106248608534313|           26950|\n",
      "|         226|            1.0|             155.0| 4.0204349425964105|           40764|\n",
      "|         147|            1.0|              22.0| 0.3065496368038741|             826|\n",
      "|         200|            1.0|              40.0| 1.2613800424628452|             942|\n",
      "|         139|            1.0|              35.0| 0.1564458370635631|            1117|\n",
      "|          42|            1.0|             100.0| 1.6845318595578649|           44602|\n",
      "|         262|            1.0|            249.99|  2.536336849629587|          542806|\n",
      "|         125|            1.0|             220.0|  2.776747003778648|          258826|\n",
      "|         205|            1.0|             17.68|0.10703040000000001|            3125|\n",
      "|         254|            1.0|             19.82|0.12163836163836166|            2002|\n",
      "|         119|            1.0|              30.0| 0.8898629320619785|            1678|\n",
      "|         218|            1.0|              40.0| 0.1722612419700214|            2335|\n",
      "|          83|            1.0|             78.88| 2.8650745444505796|            1811|\n",
      "|         192|            1.0|             12.16| 1.0138992537313432|             536|\n",
      "+------------+---------------+------------------+-------------------+----------------+\n",
      "only showing top 20 rows\n",
      "\n"
     ]
    }
   ],
   "source": [
    "aggregated_result2 = new_sdf_2019 \\\n",
    "                     .groupBy(\"PULocationID\",\n",
    "                              \"passenger_count\",\n",
    "                             ) \\\n",
    "                     .agg(\n",
    "                       F.max(\"tip_amount\").alias(\"max_tip_amount_usd\"),\n",
    "                       F.mean(\"tip_amount\").alias(\"avg_tip_amount_usd\"),\n",
    "                       F.count(\"PULocationID\").alias(\"total_trip_count\")\n",
    "                       ) \\\n",
    "                     .orderBy(\"passenger_count\")\n",
    "                     \n",
    "\n",
    "aggregated_result2.show()"
   ]
  },
  {
   "cell_type": "code",
   "execution_count": 13,
   "metadata": {
    "ExecuteTime": {
     "end_time": "2022-08-10T11:36:14.243055Z",
     "start_time": "2022-08-10T11:35:51.260238Z"
    }
   },
   "outputs": [],
   "source": [
    "# write out the aggregated results\n",
    "aggregated_result1.write.mode('overwrite').parquet('../data/curated/aggregated_result1_2019')\n",
    "aggregated_result2.write.mode('overwrite').parquet('../data/curated/aggregated_result2_2019')"
   ]
  },
  {
   "cell_type": "markdown",
   "metadata": {},
   "source": [
    "# Subsampling"
   ]
  },
  {
   "cell_type": "code",
   "execution_count": 14,
   "metadata": {
    "ExecuteTime": {
     "end_time": "2022-08-10T11:37:00.766675Z",
     "start_time": "2022-08-10T11:36:14.245999Z"
    }
   },
   "outputs": [],
   "source": [
    "# Sample data will be stratified by month\n",
    "# Due to limited memory, 40% of the actual data will be use for modeling, 5% will be used for plotting\n",
    "sampled_sdf_for_mod = new_sdf_2019.sampleBy(\"PUMonth\", {i : 0.4 for i in range(1, 13)}, seed=0)\n",
    "sampled_sdf_for_plot = new_sdf_2019.sampleBy(\"PUMonth\", {i : 0.05 for i in range(1, 13)}, seed=0)\n",
    "\n",
    "# Write the parquet\n",
    "sampled_sdf_for_mod.write.mode('overwrite').parquet(\"../data/curated/sample_data_2019\")\n",
    "sampled_sdf_for_plot.write.mode('overwrite').parquet(\"../data/curated/sample_data_for_plotting_2019\")"
   ]
  },
  {
   "cell_type": "code",
   "execution_count": 15,
   "metadata": {
    "ExecuteTime": {
     "end_time": "2022-08-10T11:37:01.099257Z",
     "start_time": "2022-08-10T11:37:00.776384Z"
    }
   },
   "outputs": [],
   "source": [
    "# Also the same procedure will be applied to 2020 data\n",
    "sdf_2020 = spark.read.parquet('../data/raw/yellow_taxi_data_2020/')\n",
    "new_sdf_2020 = transform(sdf_2020, 2020)"
   ]
  },
  {
   "cell_type": "code",
   "execution_count": 16,
   "metadata": {
    "ExecuteTime": {
     "end_time": "2022-08-10T11:37:16.514782Z",
     "start_time": "2022-08-10T11:37:01.103527Z"
    }
   },
   "outputs": [],
   "source": [
    "# Due to lockdown of NYC in March, 2020, the records has declined substantially\n",
    "# I will use data from January to February to validate model predictions\n",
    "reduced_sdf = new_sdf_2020.filter(F.col(\"PUMonth\").isin([1, 2]))\n",
    "reduced_sdf.write.mode('overwrite').parquet(\"../data/curated/sample_data_2020\")"
   ]
  }
 ],
 "metadata": {
  "kernelspec": {
   "display_name": "Python 3",
   "language": "python",
   "name": "python3"
  },
  "language_info": {
   "codemirror_mode": {
    "name": "ipython",
    "version": 3
   },
   "file_extension": ".py",
   "mimetype": "text/x-python",
   "name": "python",
   "nbconvert_exporter": "python",
   "pygments_lexer": "ipython3",
   "version": "3.8.3"
  }
 },
 "nbformat": 4,
 "nbformat_minor": 4
}
