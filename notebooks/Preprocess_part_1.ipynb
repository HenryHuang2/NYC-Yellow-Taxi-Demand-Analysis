{
 "cells": [
  {
   "cell_type": "markdown",
   "metadata": {},
   "source": [
    "# Preprocess the TLC Data"
   ]
  },
  {
   "cell_type": "code",
   "execution_count": 1,
   "metadata": {
    "ExecuteTime": {
     "end_time": "2022-08-20T06:16:48.225343Z",
     "start_time": "2022-08-20T06:16:47.666500Z"
    }
   },
   "outputs": [],
   "source": [
    "from pyspark.sql import SparkSession\n",
    "from pyspark.sql import functions as F\n",
    "import pandas as pd"
   ]
  },
  {
   "cell_type": "code",
   "execution_count": 2,
   "metadata": {
    "ExecuteTime": {
     "end_time": "2022-08-20T06:16:53.379414Z",
     "start_time": "2022-08-20T06:16:48.227911Z"
    }
   },
   "outputs": [],
   "source": [
    "spark = (\n",
    "    SparkSession.builder.appName(\"preprocess\")\n",
    "    .config(\"spark.sql.repl.eagerEval.enabled\", True)\n",
    "    .config(\"spark.sql.parquet.cacheMetadata\", \"true\")\n",
    "    .config(\"spark.sql.session.timeZone\", \"Etc/UTC\")\n",
    "    .config(\"spark.driver.memory\", \"2g\")\n",
    "    .config(\"spark.executor.memory\", \"4g\")\n",
    "    .getOrCreate()\n",
    ")"
   ]
  },
  {
   "cell_type": "code",
   "execution_count": 3,
   "metadata": {
    "ExecuteTime": {
     "end_time": "2022-08-20T06:16:58.373522Z",
     "start_time": "2022-08-20T06:16:53.382050Z"
    }
   },
   "outputs": [],
   "source": [
    "sdf_2019 = spark.read.parquet('../data/raw/yellow_taxi_data_2019/')"
   ]
  },
  {
   "cell_type": "markdown",
   "metadata": {},
   "source": [
    "# Preliminary data analysis"
   ]
  },
  {
   "cell_type": "code",
   "execution_count": 4,
   "metadata": {
    "ExecuteTime": {
     "end_time": "2022-08-20T06:17:00.195844Z",
     "start_time": "2022-08-20T06:16:58.375966Z"
    }
   },
   "outputs": [
    {
     "name": "stdout",
     "output_type": "stream",
     "text": [
      "total of 84,598,444 rows\n"
     ]
    }
   ],
   "source": [
    "print(f'total of {sdf_2019.count():,} rows')"
   ]
  },
  {
   "cell_type": "code",
   "execution_count": 5,
   "metadata": {
    "ExecuteTime": {
     "end_time": "2022-08-20T06:17:00.212856Z",
     "start_time": "2022-08-20T06:17:00.197797Z"
    }
   },
   "outputs": [
    {
     "name": "stdout",
     "output_type": "stream",
     "text": [
      "root\n",
      " |-- VendorID: long (nullable = true)\n",
      " |-- tpep_pickup_datetime: timestamp (nullable = true)\n",
      " |-- tpep_dropoff_datetime: timestamp (nullable = true)\n",
      " |-- passenger_count: double (nullable = true)\n",
      " |-- trip_distance: double (nullable = true)\n",
      " |-- RatecodeID: double (nullable = true)\n",
      " |-- store_and_fwd_flag: string (nullable = true)\n",
      " |-- PULocationID: long (nullable = true)\n",
      " |-- DOLocationID: long (nullable = true)\n",
      " |-- payment_type: long (nullable = true)\n",
      " |-- fare_amount: double (nullable = true)\n",
      " |-- extra: double (nullable = true)\n",
      " |-- mta_tax: double (nullable = true)\n",
      " |-- tip_amount: double (nullable = true)\n",
      " |-- tolls_amount: double (nullable = true)\n",
      " |-- improvement_surcharge: double (nullable = true)\n",
      " |-- total_amount: double (nullable = true)\n",
      " |-- congestion_surcharge: double (nullable = true)\n",
      " |-- airport_fee: integer (nullable = true)\n",
      "\n"
     ]
    }
   ],
   "source": [
    "sdf_2019.printSchema()"
   ]
  },
  {
   "cell_type": "code",
   "execution_count": 6,
   "metadata": {
    "ExecuteTime": {
     "end_time": "2022-08-20T06:17:04.587960Z",
     "start_time": "2022-08-20T06:17:00.214916Z"
    }
   },
   "outputs": [
    {
     "name": "stdout",
     "output_type": "stream",
     "text": [
      "+-------+------------------+------------------+------------------+------------------+\n",
      "|summary|        tip_amount|     trip_distance|       fare_amount|      tolls_amount|\n",
      "+-------+------------------+------------------+------------------+------------------+\n",
      "|  count|          84598444|          84598444|          84598444|          84598444|\n",
      "|   mean| 2.190078737505638|3.0183506184817515|13.412639732835764|0.3868694478611098|\n",
      "| stddev|15.638996154306168| 8.093902044464816|174.17668755385404|1.8233435182238924|\n",
      "|    min|            -221.0|         -37264.53|           -1856.0|             -70.0|\n",
      "|    max|         141492.02|          45977.22|          943274.8|            3288.0|\n",
      "+-------+------------------+------------------+------------------+------------------+\n",
      "\n"
     ]
    }
   ],
   "source": [
    "# Check the statistics for numeric attributes\n",
    "sdf_2019.describe(['tip_amount', 'trip_distance', 'fare_amount', 'tolls_amount']).show()"
   ]
  },
  {
   "cell_type": "code",
   "execution_count": 7,
   "metadata": {
    "ExecuteTime": {
     "end_time": "2022-08-20T06:17:09.094648Z",
     "start_time": "2022-08-20T06:17:04.593966Z"
    }
   },
   "outputs": [],
   "source": [
    "# Calculate the bounds for outliers detection\n",
    "columns = ['fare_amount', 'tip_amount', 'tolls_amount', 'trip_distance']\n",
    "mean_dict = {column: 'mean' for column in columns}\n",
    "stddev_dict = {column: 'stddev' for column in columns}\n",
    "\n",
    "mean = sdf_2019.agg(mean_dict).collect()[0]\n",
    "std = sdf_2019.agg(stddev_dict).collect()[0]\n",
    "\n",
    "bounds = {columns[i]: [mean[i] - 3*std[i], mean[i] + 3*std[i]] for i in range(4)}"
   ]
  },
  {
   "cell_type": "code",
   "execution_count": 8,
   "metadata": {
    "ExecuteTime": {
     "end_time": "2022-08-20T06:17:16.208383Z",
     "start_time": "2022-08-20T06:17:09.097610Z"
    }
   },
   "outputs": [
    {
     "name": "stdout",
     "output_type": "stream",
     "text": [
      "VendorID has 0 null value(s)\n",
      "tpep_pickup_datetime has 0 null value(s)\n",
      "tpep_dropoff_datetime has 0 null value(s)\n",
      "passenger_count has 444383 null value(s)\n",
      "trip_distance has 0 null value(s)\n",
      "RatecodeID has 444383 null value(s)\n",
      "store_and_fwd_flag has 444383 null value(s)\n",
      "PULocationID has 0 null value(s)\n",
      "DOLocationID has 0 null value(s)\n",
      "payment_type has 0 null value(s)\n",
      "fare_amount has 0 null value(s)\n",
      "extra has 0 null value(s)\n",
      "mta_tax has 0 null value(s)\n",
      "tip_amount has 0 null value(s)\n",
      "tolls_amount has 0 null value(s)\n",
      "improvement_surcharge has 0 null value(s)\n",
      "total_amount has 0 null value(s)\n",
      "congestion_surcharge has 5300601 null value(s)\n",
      "airport_fee has 84598444 null value(s)\n"
     ]
    }
   ],
   "source": [
    "# Check null value\n",
    "for column in sdf_2019.columns:\n",
    "    print(f'{column} has {sdf_2019.where(F.col(column).isNull()).count()} null value(s)')"
   ]
  },
  {
   "cell_type": "code",
   "execution_count": 9,
   "metadata": {
    "ExecuteTime": {
     "end_time": "2022-08-20T06:17:16.368603Z",
     "start_time": "2022-08-20T06:17:16.210573Z"
    }
   },
   "outputs": [],
   "source": [
    "# line 17~24: Drop the attributes that we are not interested in\n",
    "# line 25: Drop the rows with null passenger_count and RatecodeID\n",
    "# line 26~27: Remove data not in 2019\n",
    "# line 28~35: Remove outliers that are 3 standard deviation away from mean\n",
    "# line 36: RateCodeID should be one of the integer in the range of 1-6\n",
    "# line 37: Only trips paid by credit card or cash are included\n",
    "# line 38: Passenger count must not be zero\n",
    "# line 39~40: Zone 264, 265 are unknown zone\n",
    "# line 41: Extract the pick-up month\n",
    "# line 42: Extract the drop-off month\n",
    "\n",
    "def transform(sdf, year):\n",
    "    \"\"\"\n",
    "    return a modified sdf\n",
    "    \"\"\"\n",
    "    sdf_mdf = sdf \\\n",
    "            .drop('VendorID', \n",
    "                  'store_and_fwd_flag', \n",
    "                  'extra',\n",
    "                  'mta_tax',\n",
    "                  'improvement_surcharge',\n",
    "                  'total_amount',\n",
    "                  'congestion_surcharge',\n",
    "                  'airport_fee') \\\n",
    "            .dropna(how='any') \\\n",
    "            .filter((F.year('tpep_pickup_datetime') == year) & \n",
    "                    (F.year('tpep_dropoff_datetime') == year)) \\\n",
    "            .filter((F.col('tip_amount') >= bounds['tip_amount'][0]) & \n",
    "                    (F.col('tip_amount') < bounds['tip_amount'][1])) \\\n",
    "            .filter((F.col('trip_distance') > bounds['trip_distance'][0]) & \n",
    "                    (F.col('trip_distance') < bounds['trip_distance'][1])) \\\n",
    "            .filter((F.col('fare_amount') > bounds['fare_amount'][0]) & \n",
    "                    (F.col('fare_amount') < bounds['fare_amount'][1])) \\\n",
    "            .filter((F.col('tolls_amount') > bounds['tolls_amount'][0]) & \n",
    "                    (F.col('tolls_amount') < bounds['tolls_amount'][1])) \\\n",
    "            .filter(F.col('RatecodeID').isin(list(range(1, 7)))) \\\n",
    "            .filter(F.col('payment_type').isin(1, 2)) \\\n",
    "            .filter(F.col('passenger_count') != 0) \\\n",
    "            .filter((F.col('PULocationID').isin([264, 265]) == False) & \n",
    "                    (F.col('DOLocationID').isin([264, 265]) == False)) \\\n",
    "            .withColumn('PUMonth', F.month(F.col('tpep_pickup_datetime'))) \\\n",
    "            .withColumn('DOMonth', F.month(F.col('tpep_dropoff_datetime'))) \\\n",
    "    \n",
    "    return sdf_mdf\n",
    "\n",
    "\n",
    "new_sdf_2019 = transform(sdf_2019, 2019)"
   ]
  },
  {
   "cell_type": "code",
   "execution_count": 10,
   "metadata": {
    "ExecuteTime": {
     "end_time": "2022-08-20T06:17:29.330735Z",
     "start_time": "2022-08-20T06:17:16.371083Z"
    }
   },
   "outputs": [
    {
     "name": "stdout",
     "output_type": "stream",
     "text": [
      "+------------+-------+----------+\n",
      "|PULocationID|PUMonth|trip_count|\n",
      "+------------+-------+----------+\n",
      "|         173|      3|       341|\n",
      "|         113|      5|    108312|\n",
      "|          28|      3|       874|\n",
      "|         158|      2|     67429|\n",
      "|          94|      3|       174|\n",
      "|         201|      3|        26|\n",
      "|         193|      3|      5104|\n",
      "|           7|      2|      9858|\n",
      "|         200|      3|       229|\n",
      "|         123|      3|       349|\n",
      "|         109|      3|         1|\n",
      "|         211|      2|     54139|\n",
      "|         129|      3|      3841|\n",
      "|         137|      2|     86046|\n",
      "|          87|      4|     48752|\n",
      "|          75|      2|     51472|\n",
      "|         247|      3|      1279|\n",
      "|         181|      3|      6930|\n",
      "|         180|      3|       161|\n",
      "|         162|      5|    252678|\n",
      "+------------+-------+----------+\n",
      "only showing top 20 rows\n",
      "\n"
     ]
    }
   ],
   "source": [
    "pu_2019_aggregated_result = new_sdf_2019 \\\n",
    "                            .groupBy(\"PULocationID\",\n",
    "                                     \"PUMonth\",\n",
    "                                     ) \\\n",
    "                            .agg(\n",
    "                                 F.count('PULocationID').alias(\"trip_count\")\n",
    "                             )\n",
    "                    \n",
    "\n",
    "pu_2019_aggregated_result.show()"
   ]
  },
  {
   "cell_type": "code",
   "execution_count": 11,
   "metadata": {
    "ExecuteTime": {
     "end_time": "2022-08-20T06:17:42.280801Z",
     "start_time": "2022-08-20T06:17:29.333540Z"
    }
   },
   "outputs": [
    {
     "name": "stdout",
     "output_type": "stream",
     "text": [
      "+------------+-------+----------+\n",
      "|DOLocationID|DOMonth|trip_count|\n",
      "+------------+-------+----------+\n",
      "|          66|      4|     11802|\n",
      "|         136|      4|       897|\n",
      "|          89|      4|      4992|\n",
      "|         173|      3|      2190|\n",
      "|          28|      3|      2399|\n",
      "|          94|      3|       718|\n",
      "|         201|      3|       323|\n",
      "|          71|      4|      1250|\n",
      "|         123|      3|      1409|\n",
      "|         193|      3|      6545|\n",
      "|         200|      3|      2361|\n",
      "|           7|      2|     25954|\n",
      "|         109|      3|         2|\n",
      "|         149|      4|       771|\n",
      "|         216|      4|      4686|\n",
      "|         129|      3|     13727|\n",
      "|         211|      2|     55637|\n",
      "|          87|      4|     51886|\n",
      "|         135|      4|      1643|\n",
      "|         247|      3|      3104|\n",
      "+------------+-------+----------+\n",
      "only showing top 20 rows\n",
      "\n"
     ]
    }
   ],
   "source": [
    "do_2019_aggregated_result = new_sdf_2019 \\\n",
    "                            .groupBy(\"DOLocationID\",\n",
    "                                     \"DOMonth\",\n",
    "                                     ) \\\n",
    "                            .agg(\n",
    "                                 F.count('DOLocationID').alias(\"trip_count\")\n",
    "                             )\n",
    "                    \n",
    "\n",
    "do_2019_aggregated_result.show()"
   ]
  },
  {
   "cell_type": "code",
   "execution_count": 12,
   "metadata": {
    "ExecuteTime": {
     "end_time": "2022-08-20T06:18:04.600549Z",
     "start_time": "2022-08-20T06:17:42.283335Z"
    }
   },
   "outputs": [],
   "source": [
    "# write out the aggregated results\n",
    "pu_2019_aggregated_result.write.mode('overwrite').parquet('../data/curated/pu_aggregated_result_2019')\n",
    "do_2019_aggregated_result.write.mode('overwrite').parquet('../data/curated/do_aggregated_result_2019')"
   ]
  },
  {
   "cell_type": "markdown",
   "metadata": {},
   "source": [
    "# Subsampling"
   ]
  },
  {
   "cell_type": "code",
   "execution_count": 13,
   "metadata": {
    "ExecuteTime": {
     "end_time": "2022-08-20T06:18:04.845080Z",
     "start_time": "2022-08-20T06:18:04.603084Z"
    }
   },
   "outputs": [],
   "source": [
    "# Also the same procedure will be applied to 2020 data\n",
    "sdf_2020 = spark.read.parquet('../data/raw/yellow_taxi_data_2020/')\n",
    "new_sdf_2020 = transform(sdf_2020, 2020)"
   ]
  },
  {
   "cell_type": "code",
   "execution_count": 14,
   "metadata": {
    "ExecuteTime": {
     "end_time": "2022-08-20T06:18:16.265328Z",
     "start_time": "2022-08-20T06:18:04.847391Z"
    }
   },
   "outputs": [],
   "source": [
    "# Due to lockdown of NYC in March, 2020, the records has declined substantially\n",
    "# I will use data from January to February to validate model predictions\n",
    "reduced_sdf = new_sdf_2020.filter(F.col(\"PUMonth\").isin([1, 2]))\n",
    "\n",
    "pu_2020_aggregated_result = reduced_sdf \\\n",
    "                            .groupBy(\"PULocationID\",\n",
    "                                     \"PUMonth\",\n",
    "                                     ) \\\n",
    "                            .agg(\n",
    "                                 F.count('PULocationID').alias(\"trip_count\")\n",
    "                             )\n",
    "\n",
    "do_2020_aggregated_result = reduced_sdf \\\n",
    "                            .groupBy(\"DOLocationID\",\n",
    "                                     \"DOMonth\",\n",
    "                                     ) \\\n",
    "                            .agg(\n",
    "                                 F.count('DOLocationID').alias(\"trip_count\")\n",
    "                             )\n",
    "\n",
    "pu_2020_aggregated_result.write.mode('overwrite').parquet(\"../data/curated/pu_aggregated_result_2020\")\n",
    "do_2020_aggregated_result.write.mode('overwrite').parquet(\"../data/curated/do_aggregated_result_2020\")"
   ]
  }
 ],
 "metadata": {
  "kernelspec": {
   "display_name": "Python 3",
   "language": "python",
   "name": "python3"
  },
  "language_info": {
   "codemirror_mode": {
    "name": "ipython",
    "version": 3
   },
   "file_extension": ".py",
   "mimetype": "text/x-python",
   "name": "python",
   "nbconvert_exporter": "python",
   "pygments_lexer": "ipython3",
   "version": "3.8.3"
  }
 },
 "nbformat": 4,
 "nbformat_minor": 4
}
