{
 "cells": [
  {
   "cell_type": "markdown",
   "metadata": {},
   "source": [
    "# Download the Data"
   ]
  },
  {
   "cell_type": "code",
   "execution_count": 2,
   "metadata": {
    "ExecuteTime": {
     "end_time": "2022-08-10T09:27:33.820238Z",
     "start_time": "2022-08-10T09:27:32.257807Z"
    }
   },
   "outputs": [
    {
     "name": "stdout",
     "output_type": "stream",
     "text": [
      "/Users/haiyanghuang/Documents/GitHub/mast30034-project-1-HenryHuang2/scripts\n",
      "Begin year 2019\n",
      "Begin month 01\n",
      "The required tlc_data has already been downloaded\n",
      "Completed month 01\n",
      "Begin month 02\n",
      "The required tlc_data has already been downloaded\n",
      "Completed month 02\n",
      "Begin month 03\n",
      "The required tlc_data has already been downloaded\n",
      "Completed month 03\n",
      "Begin month 04\n",
      "The required tlc_data has already been downloaded\n",
      "Completed month 04\n",
      "Begin month 05\n",
      "The required tlc_data has already been downloaded\n",
      "Completed month 05\n",
      "Begin month 06\n",
      "The required tlc_data has already been downloaded\n",
      "Completed month 06\n",
      "Begin month 07\n",
      "The required tlc_data has already been downloaded\n",
      "Completed month 07\n",
      "Begin month 08\n",
      "The required tlc_data has already been downloaded\n",
      "Completed month 08\n",
      "Begin month 09\n",
      "The required tlc_data has already been downloaded\n",
      "Completed month 09\n",
      "Begin month 10\n",
      "The required tlc_data has already been downloaded\n",
      "Completed month 10\n",
      "Begin month 11\n",
      "The required tlc_data has already been downloaded\n",
      "Completed month 11\n",
      "Begin month 12\n",
      "The required tlc_data has already been downloaded\n",
      "Completed month 12\n",
      "Completed year 2019\n",
      "Begin year 2020\n",
      "Begin month 01\n",
      "The required tlc_data has already been downloaded\n",
      "Completed month 01\n",
      "Begin month 02\n",
      "The required tlc_data has already been downloaded\n",
      "Completed month 02\n",
      "Begin month 03\n",
      "The required tlc_data has already been downloaded\n",
      "Completed month 03\n",
      "Begin month 04\n",
      "The required tlc_data has already been downloaded\n",
      "Completed month 04\n",
      "Begin month 05\n",
      "The required tlc_data has already been downloaded\n",
      "Completed month 05\n",
      "Begin month 06\n",
      "The required tlc_data has already been downloaded\n",
      "Completed month 06\n",
      "Begin month 07\n",
      "The required tlc_data has already been downloaded\n",
      "Completed month 07\n",
      "Begin month 08\n",
      "The required tlc_data has already been downloaded\n",
      "Completed month 08\n",
      "Begin month 09\n",
      "The required tlc_data has already been downloaded\n",
      "Completed month 09\n",
      "Begin month 10\n",
      "The required tlc_data has already been downloaded\n",
      "Completed month 10\n",
      "Begin month 11\n",
      "The required tlc_data has already been downloaded\n",
      "Completed month 11\n",
      "Begin month 12\n",
      "The required tlc_data has already been downloaded\n",
      "Completed month 12\n",
      "Completed year 2020\n",
      "Begin nyc_population_by_community_districts.csv\n",
      "The required nyc_population_by_community_districts.csv has already been downloaded\n",
      "Completed nyc_population_by_community_districts.csv\n",
      "Begin taxi_zone_lookup.csv\n",
      "The required taxi_zone_lookup.csv has already been downloaded\n",
      "Completed taxi_zone_lookup.csv\n",
      "Begin taxi_zones.zip\n",
      "Completed taxi_zones.zip\n",
      "Completed extraction ../data/raw/external_data_and_taxi_zones/taxi_zones.zip\n"
     ]
    }
   ],
   "source": [
    "%cd ../scripts\n",
    "%run Download.py"
   ]
  },
  {
   "cell_type": "code",
   "execution_count": null,
   "metadata": {},
   "outputs": [],
   "source": []
  }
 ],
 "metadata": {
  "kernelspec": {
   "display_name": "Python 3",
   "language": "python",
   "name": "python3"
  },
  "language_info": {
   "codemirror_mode": {
    "name": "ipython",
    "version": 3
   },
   "file_extension": ".py",
   "mimetype": "text/x-python",
   "name": "python",
   "nbconvert_exporter": "python",
   "pygments_lexer": "ipython3",
   "version": "3.8.3"
  }
 },
 "nbformat": 4,
 "nbformat_minor": 4
}
