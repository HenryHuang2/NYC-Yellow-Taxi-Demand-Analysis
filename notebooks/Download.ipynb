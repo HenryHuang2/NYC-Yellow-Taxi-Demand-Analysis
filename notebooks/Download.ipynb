{
 "cells": [
  {
   "cell_type": "markdown",
   "metadata": {},
   "source": [
    "# Download the Data"
   ]
  },
  {
   "cell_type": "code",
   "execution_count": 1,
   "metadata": {
    "ExecuteTime": {
     "end_time": "2022-08-07T13:17:24.755292Z",
     "start_time": "2022-08-07T13:06:27.538295Z"
    }
   },
   "outputs": [
    {
     "name": "stdout",
     "output_type": "stream",
     "text": [
      "/Users/haiyanghuang/Documents/GitHub/mast30034-project-1-HenryHuang2/scripts\n",
      "Begin year 2019\n",
      "Begin month 01\n",
      "Completed month 01\n",
      "Begin month 02\n",
      "Completed month 02\n",
      "Begin month 03\n",
      "Completed month 03\n",
      "Begin month 04\n",
      "Completed month 04\n",
      "Begin month 05\n",
      "Completed month 05\n",
      "Begin month 06\n",
      "Completed month 06\n",
      "Begin month 07\n",
      "Completed month 07\n",
      "Begin month 08\n",
      "Completed month 08\n",
      "Begin month 09\n",
      "Completed month 09\n",
      "Begin month 10\n",
      "Completed month 10\n",
      "Begin month 11\n",
      "Completed month 11\n",
      "Begin month 12\n",
      "Completed month 12\n",
      "Completed year 2019\n",
      "Begin year 2020\n",
      "Begin month 01\n",
      "Completed month 01\n",
      "Begin month 02\n",
      "Completed month 02\n",
      "Begin month 03\n",
      "Completed month 03\n",
      "Begin month 04\n",
      "Completed month 04\n",
      "Begin month 05\n",
      "Completed month 05\n",
      "Begin month 06\n",
      "Completed month 06\n",
      "Begin month 07\n",
      "Completed month 07\n",
      "Begin month 08\n",
      "Completed month 08\n",
      "Begin month 09\n",
      "Completed month 09\n",
      "Begin month 10\n",
      "Completed month 10\n",
      "Begin month 11\n",
      "Completed month 11\n",
      "Begin month 12\n",
      "Completed month 12\n",
      "Completed year 2020\n",
      "Begin nyc_population_by_community_districts.csv\n",
      "Completed nyc_population_by_community_districts.csv\n",
      "Begin taxi_zone_lookup.csv\n",
      "Completed taxi_zone_lookup.csv\n"
     ]
    }
   ],
   "source": [
    "%cd ../scripts\n",
    "%run download.py"
   ]
  },
  {
   "cell_type": "code",
   "execution_count": null,
   "metadata": {},
   "outputs": [],
   "source": []
  }
 ],
 "metadata": {
  "kernelspec": {
   "display_name": "Python 3",
   "language": "python",
   "name": "python3"
  },
  "language_info": {
   "codemirror_mode": {
    "name": "ipython",
    "version": 3
   },
   "file_extension": ".py",
   "mimetype": "text/x-python",
   "name": "python",
   "nbconvert_exporter": "python",
   "pygments_lexer": "ipython3",
   "version": "3.8.3"
  }
 },
 "nbformat": 4,
 "nbformat_minor": 4
}
